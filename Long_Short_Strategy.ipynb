{
 "cells": [
  {
   "cell_type": "markdown",
   "metadata": {},
   "source": [
    "## Introduzione Python e Finanza "
   ]
  },
  {
   "cell_type": "markdown",
   "metadata": {},
   "source": [
    "Negli ultimi anni Python si è dimostrato essere uno dei linguaggi di programmazione più aprezzati dalla community dei developers. Il numero di sviluppatori che lo utilizzano attivamente è cresciuto vertiginosamente, così come il numero di applicazione sviluppate e rilasciate. Ma qual è il successo dietro Python?\n",
    "\n",
    "In poche parole: i <b>Big Data</b>. Secondo un vecchio articolo della rivista Forbes tra il 2013 e il 2015 abbiamo prodotto più dati che in tutta la storia dell’umanità fino ad allora, e varie stime indicano che nel 2020 ci saranno circa 44 zettabyte di dati che circoleranno per il globo (440 miliardi di gigabyte).\n",
    "\n",
    "Per questo Python risulta essere uno strumento ottimale in ambito finanziario, ci aiuta a gestire tutti questi dati, e grazie alle nuove tecnologie di machine learning sarà possibile costruire modelli sempre più accurati. \n",
    "\n"
   ]
  },
  {
   "cell_type": "markdown",
   "metadata": {},
   "source": [
    "### Importare le librerie e i dati storici"
   ]
  },
  {
   "cell_type": "markdown",
   "metadata": {},
   "source": [
    "Iniziamo importando due delle principali librerie per Python:\n",
    "    - pandas (ci servirà per importare e manipolare i dati)\n",
    "    - numpy (ci permette di effettuare calcoli tra vettori e matrici)"
   ]
  },
  {
   "cell_type": "code",
   "execution_count": 1,
   "metadata": {},
   "outputs": [],
   "source": [
    "import pandas as pd\n",
    "import numpy as np"
   ]
  },
  {
   "cell_type": "markdown",
   "metadata": {},
   "source": [
    "Ok, ora possiamo importare i dati storici. Per importare le serie storiche ci sono varie soluzioni, che dipendono essenzialmente dal formato in cui sono salvati i nostri dati. In questo caso sono archiviati in un file .csv, simile ai file excel. In questo caso è sufficiente utilizzare la libreria pandas (as pd) e il metodo in essa contenuto read_csv, specificando all'interno il percorso dove è storato il file.\n",
    "\n",
    "\n",
    "Importiamo il file AAPL.csv relativo ai dati del titolo Apple:"
   ]
  },
  {
   "cell_type": "code",
   "execution_count": 2,
   "metadata": {},
   "outputs": [],
   "source": [
    "AAPL = pd.read_csv('D:/Anaconda/AAPL.csv')"
   ]
  },
  {
   "cell_type": "markdown",
   "metadata": {},
   "source": [
    "### Visualizzare i dati "
   ]
  },
  {
   "cell_type": "markdown",
   "metadata": {},
   "source": [
    "Ok ora utilizziamo la funzione head() per vedere le prime 5 righe del nostro dataset:"
   ]
  },
  {
   "cell_type": "code",
   "execution_count": 9,
   "metadata": {},
   "outputs": [
    {
     "data": {
      "text/plain": [
       "0    223.970001\n",
       "1    224.589996\n",
       "2    218.960007\n",
       "3    220.820007\n",
       "4    227.009995\n",
       "Name: Adj Close, dtype: float64"
      ]
     },
     "execution_count": 9,
     "metadata": {},
     "output_type": "execute_result"
    }
   ],
   "source": [
    "AAPL.head()"
   ]
  },
  {
   "cell_type": "markdown",
   "metadata": {},
   "source": [
    "Come possiamo vedere abbiamo 7 colonne: 'Date','Open', 'High'...\n",
    "A noi interessa principalmente la colonna 'Adj Close', che ci servirà per calcolare le variazioni giornaliere, dalle quali ricaveremo il ritorno atteso e il rischio, identificato nella varianza\n",
    "    "
   ]
  },
  {
   "cell_type": "markdown",
   "metadata": {},
   "source": [
    "Visualizziamo il grafico dei prezzi di chiusura nell'ultimo anno:"
   ]
  },
  {
   "cell_type": "code",
   "execution_count": 5,
   "metadata": {},
   "outputs": [
    {
     "data": {
      "image/png": "[encoded data removed]",
      "text/plain": [
       "<Figure size 432x288 with 1 Axes>"
      ]
     },
     "metadata": {
      "needs_background": "light"
     },
     "output_type": "display_data"
    }
   ],
   "source": [
    "import matplotlib.pyplot as plt\n",
    "\n",
    "AAPL.plot(x='Date', y='Adj Close',)\n",
    "plt.show()"
   ]
  },
  {
   "cell_type": "markdown",
   "metadata": {},
   "source": [
    "Estraiamo la colonna del prezzo di chiusura:"
   ]
  },
  {
   "cell_type": "code",
   "execution_count": 6,
   "metadata": {},
   "outputs": [],
   "source": [
    "AAPL = AAPL['Adj Close']"
   ]
  },
  {
   "cell_type": "markdown",
   "metadata": {},
   "source": [
    "Come vediamo utilizzando la funzione head() nel database AAPL solo la colonna della chiusura aggiustata:"
   ]
  },
  {
   "cell_type": "code",
   "execution_count": 8,
   "metadata": {},
   "outputs": [
    {
     "data": {
      "text/plain": [
       "0    223.970001\n",
       "1    224.589996\n",
       "2    218.960007\n",
       "3    220.820007\n",
       "4    227.009995\n",
       "Name: Adj Close, dtype: float64"
      ]
     },
     "execution_count": 8,
     "metadata": {},
     "output_type": "execute_result"
    }
   ],
   "source": [
    "AAPL.head()"
   ]
  },
  {
   "cell_type": "code",
   "execution_count": 11,
   "metadata": {},
   "outputs": [],
   "source": [
    "'''\n",
    "AMZN = pd.read_csv('D:/Anaconda/AMZN.csv')\n",
    "FB = pd.read_csv('D:/Anaconda/FB.csv')\n",
    "GOOG = pd.read_csv('D:/Anaconda/GOOG.csv')\n",
    "MSFT = pd.read_csv('D:/Anaconda/MSFT.csv')\n",
    "NFLX = pd.read_csv('D:/Anaconda/NFLX.csv')\n",
    "NIO = pd.read_csv('D:/Anaconda/NIO.csv')\n",
    "PCG = pd.read_csv('D:/Anaconda/PCG.csv')\n",
    "SPOT = pd.read_csv('D:/Anaconda/SPOT.csv')\n",
    "TIF = pd.read_csv('D:/Anaconda/TIF.csv')\n",
    "TSLA = pd.read_csv('D:/Anaconda/TSLA.csv')'''\n",
    "'''\n",
    "AMZN = AMZN['Adj Close']\n",
    "FB = FB['Adj Close']\n",
    "GOOG = GOOG['Adj Close']\n",
    "MSFT = MSFT['Adj Close']\n",
    "NFLX = NFLX['Adj Close']\n",
    "NIO = NIO['Adj Close']\n",
    "PCG = PCG['Adj Close']\n",
    "SPOT = SPOT['Adj Close']\n",
    "TIF = TIF['Adj Close']\n",
    "TSLA = TSLA['Adj Close']'''\n",
    "\n",
    "stocks = ['AAPL', 'AMZN', 'FB','GOOGL', 'MSFT', 'NFLX', 'NIO','PCG','SPOT', 'TIF', 'TSLA']"
   ]
  },
  {
   "cell_type": "code",
   "execution_count": 12,
   "metadata": {},
   "outputs": [],
   "source": [
    "df = pd.concat([AAPL, \n",
    "                AMZN, \n",
    "                FB,\n",
    "                GOOG,\n",
    "                MSFT,\n",
    "                NFLX,\n",
    "                NIO,\n",
    "                PCG,\n",
    "                SPOT,\n",
    "                TIF,\n",
    "                TSLA,\n",
    "                ], axis=1)"
   ]
  },
  {
   "cell_type": "code",
   "execution_count": 13,
   "metadata": {},
   "outputs": [
    {
     "data": {
      "text/html": [
       "<div>\n",
       "<style scoped>\n",
       "    .dataframe tbody tr th:only-of-type {\n",
       "        vertical-align: middle;\n",
       "    }\n",
       "\n",
       "    .dataframe tbody tr th {\n",
       "        vertical-align: top;\n",
       "    }\n",
       "\n",
       "    .dataframe thead th {\n",
       "        text-align: right;\n",
       "    }\n",
       "</style>\n",
       "<table border=\"1\" class=\"dataframe\">\n",
       "  <thead>\n",
       "    <tr style=\"text-align: right;\">\n",
       "      <th></th>\n",
       "      <th>Adj Close</th>\n",
       "      <th>Adj Close</th>\n",
       "      <th>Adj Close</th>\n",
       "      <th>Adj Close</th>\n",
       "      <th>Adj Close</th>\n",
       "      <th>Adj Close</th>\n",
       "      <th>Adj Close</th>\n",
       "      <th>Adj Close</th>\n",
       "      <th>Adj Close</th>\n",
       "      <th>Adj Close</th>\n",
       "      <th>Adj Close</th>\n",
       "    </tr>\n",
       "  </thead>\n",
       "  <tbody>\n",
       "    <tr>\n",
       "      <th>0</th>\n",
       "      <td>223.970001</td>\n",
       "      <td>1735.910034</td>\n",
       "      <td>178.080002</td>\n",
       "      <td>1219.000000</td>\n",
       "      <td>139.029999</td>\n",
       "      <td>267.619995</td>\n",
       "      <td>1.56</td>\n",
       "      <td>10.00</td>\n",
       "      <td>114.000000</td>\n",
       "      <td>92.629997</td>\n",
       "      <td>240.869995</td>\n",
       "    </tr>\n",
       "    <tr>\n",
       "      <th>1</th>\n",
       "      <td>224.589996</td>\n",
       "      <td>1735.650024</td>\n",
       "      <td>175.809998</td>\n",
       "      <td>1205.099976</td>\n",
       "      <td>137.070007</td>\n",
       "      <td>269.579987</td>\n",
       "      <td>1.32</td>\n",
       "      <td>9.90</td>\n",
       "      <td>112.519997</td>\n",
       "      <td>90.879997</td>\n",
       "      <td>244.690002</td>\n",
       "    </tr>\n",
       "    <tr>\n",
       "      <th>2</th>\n",
       "      <td>218.960007</td>\n",
       "      <td>1713.229980</td>\n",
       "      <td>174.600006</td>\n",
       "      <td>1176.630005</td>\n",
       "      <td>134.649994</td>\n",
       "      <td>268.029999</td>\n",
       "      <td>1.59</td>\n",
       "      <td>8.96</td>\n",
       "      <td>113.900002</td>\n",
       "      <td>88.599998</td>\n",
       "      <td>243.130005</td>\n",
       "    </tr>\n",
       "    <tr>\n",
       "      <th>3</th>\n",
       "      <td>220.820007</td>\n",
       "      <td>1724.420044</td>\n",
       "      <td>179.380005</td>\n",
       "      <td>1187.829956</td>\n",
       "      <td>136.279999</td>\n",
       "      <td>268.149994</td>\n",
       "      <td>1.64</td>\n",
       "      <td>9.55</td>\n",
       "      <td>114.820000</td>\n",
       "      <td>89.190002</td>\n",
       "      <td>233.029999</td>\n",
       "    </tr>\n",
       "    <tr>\n",
       "      <th>4</th>\n",
       "      <td>227.009995</td>\n",
       "      <td>1739.650024</td>\n",
       "      <td>180.449997</td>\n",
       "      <td>1209.000000</td>\n",
       "      <td>138.119995</td>\n",
       "      <td>272.790009</td>\n",
       "      <td>1.62</td>\n",
       "      <td>10.87</td>\n",
       "      <td>116.419998</td>\n",
       "      <td>88.059998</td>\n",
       "      <td>231.429993</td>\n",
       "    </tr>\n",
       "  </tbody>\n",
       "</table>\n",
       "</div>"
      ],
      "text/plain": [
       "    Adj Close    Adj Close   Adj Close    Adj Close   Adj Close   Adj Close  \\\n",
       "0  223.970001  1735.910034  178.080002  1219.000000  139.029999  267.619995   \n",
       "1  224.589996  1735.650024  175.809998  1205.099976  137.070007  269.579987   \n",
       "2  218.960007  1713.229980  174.600006  1176.630005  134.649994  268.029999   \n",
       "3  220.820007  1724.420044  179.380005  1187.829956  136.279999  268.149994   \n",
       "4  227.009995  1739.650024  180.449997  1209.000000  138.119995  272.790009   \n",
       "\n",
       "   Adj Close  Adj Close   Adj Close  Adj Close   Adj Close  \n",
       "0       1.56      10.00  114.000000  92.629997  240.869995  \n",
       "1       1.32       9.90  112.519997  90.879997  244.690002  \n",
       "2       1.59       8.96  113.900002  88.599998  243.130005  \n",
       "3       1.64       9.55  114.820000  89.190002  233.029999  \n",
       "4       1.62      10.87  116.419998  88.059998  231.429993  "
      ]
     },
     "execution_count": 13,
     "metadata": {},
     "output_type": "execute_result"
    }
   ],
   "source": [
    "df.head()"
   ]
  },
  {
   "cell_type": "code",
   "execution_count": 14,
   "metadata": {},
   "outputs": [],
   "source": [
    "df.columns = ['AAPL', 'AMZN', 'FB','GOOGL', 'MSFT', 'NFLX', 'NIO','PCG','SPOT', 'TIF', 'TSLA']"
   ]
  },
  {
   "cell_type": "code",
   "execution_count": 15,
   "metadata": {},
   "outputs": [
    {
     "data": {
      "text/html": [
       "<div>\n",
       "<style scoped>\n",
       "    .dataframe tbody tr th:only-of-type {\n",
       "        vertical-align: middle;\n",
       "    }\n",
       "\n",
       "    .dataframe tbody tr th {\n",
       "        vertical-align: top;\n",
       "    }\n",
       "\n",
       "    .dataframe thead th {\n",
       "        text-align: right;\n",
       "    }\n",
       "</style>\n",
       "<table border=\"1\" class=\"dataframe\">\n",
       "  <thead>\n",
       "    <tr style=\"text-align: right;\">\n",
       "      <th></th>\n",
       "      <th>AAPL</th>\n",
       "      <th>AMZN</th>\n",
       "      <th>FB</th>\n",
       "      <th>GOOGL</th>\n",
       "      <th>MSFT</th>\n",
       "      <th>NFLX</th>\n",
       "      <th>NIO</th>\n",
       "      <th>PCG</th>\n",
       "      <th>SPOT</th>\n",
       "      <th>TIF</th>\n",
       "      <th>TSLA</th>\n",
       "    </tr>\n",
       "  </thead>\n",
       "  <tbody>\n",
       "    <tr>\n",
       "      <th>0</th>\n",
       "      <td>223.970001</td>\n",
       "      <td>1735.910034</td>\n",
       "      <td>178.080002</td>\n",
       "      <td>1219.000000</td>\n",
       "      <td>139.029999</td>\n",
       "      <td>267.619995</td>\n",
       "      <td>1.56</td>\n",
       "      <td>10.00</td>\n",
       "      <td>114.000000</td>\n",
       "      <td>92.629997</td>\n",
       "      <td>240.869995</td>\n",
       "    </tr>\n",
       "    <tr>\n",
       "      <th>1</th>\n",
       "      <td>224.589996</td>\n",
       "      <td>1735.650024</td>\n",
       "      <td>175.809998</td>\n",
       "      <td>1205.099976</td>\n",
       "      <td>137.070007</td>\n",
       "      <td>269.579987</td>\n",
       "      <td>1.32</td>\n",
       "      <td>9.90</td>\n",
       "      <td>112.519997</td>\n",
       "      <td>90.879997</td>\n",
       "      <td>244.690002</td>\n",
       "    </tr>\n",
       "    <tr>\n",
       "      <th>2</th>\n",
       "      <td>218.960007</td>\n",
       "      <td>1713.229980</td>\n",
       "      <td>174.600006</td>\n",
       "      <td>1176.630005</td>\n",
       "      <td>134.649994</td>\n",
       "      <td>268.029999</td>\n",
       "      <td>1.59</td>\n",
       "      <td>8.96</td>\n",
       "      <td>113.900002</td>\n",
       "      <td>88.599998</td>\n",
       "      <td>243.130005</td>\n",
       "    </tr>\n",
       "    <tr>\n",
       "      <th>3</th>\n",
       "      <td>220.820007</td>\n",
       "      <td>1724.420044</td>\n",
       "      <td>179.380005</td>\n",
       "      <td>1187.829956</td>\n",
       "      <td>136.279999</td>\n",
       "      <td>268.149994</td>\n",
       "      <td>1.64</td>\n",
       "      <td>9.55</td>\n",
       "      <td>114.820000</td>\n",
       "      <td>89.190002</td>\n",
       "      <td>233.029999</td>\n",
       "    </tr>\n",
       "    <tr>\n",
       "      <th>4</th>\n",
       "      <td>227.009995</td>\n",
       "      <td>1739.650024</td>\n",
       "      <td>180.449997</td>\n",
       "      <td>1209.000000</td>\n",
       "      <td>138.119995</td>\n",
       "      <td>272.790009</td>\n",
       "      <td>1.62</td>\n",
       "      <td>10.87</td>\n",
       "      <td>116.419998</td>\n",
       "      <td>88.059998</td>\n",
       "      <td>231.429993</td>\n",
       "    </tr>\n",
       "  </tbody>\n",
       "</table>\n",
       "</div>"
      ],
      "text/plain": [
       "         AAPL         AMZN          FB        GOOGL        MSFT        NFLX  \\\n",
       "0  223.970001  1735.910034  178.080002  1219.000000  139.029999  267.619995   \n",
       "1  224.589996  1735.650024  175.809998  1205.099976  137.070007  269.579987   \n",
       "2  218.960007  1713.229980  174.600006  1176.630005  134.649994  268.029999   \n",
       "3  220.820007  1724.420044  179.380005  1187.829956  136.279999  268.149994   \n",
       "4  227.009995  1739.650024  180.449997  1209.000000  138.119995  272.790009   \n",
       "\n",
       "    NIO    PCG        SPOT        TIF        TSLA  \n",
       "0  1.56  10.00  114.000000  92.629997  240.869995  \n",
       "1  1.32   9.90  112.519997  90.879997  244.690002  \n",
       "2  1.59   8.96  113.900002  88.599998  243.130005  \n",
       "3  1.64   9.55  114.820000  89.190002  233.029999  \n",
       "4  1.62  10.87  116.419998  88.059998  231.429993  "
      ]
     },
     "execution_count": 15,
     "metadata": {},
     "output_type": "execute_result"
    }
   ],
   "source": [
    "df.head()"
   ]
  },
  {
   "cell_type": "code",
   "execution_count": 32,
   "metadata": {},
   "outputs": [
    {
     "data": {
      "text/html": [
       "<div>\n",
       "<style scoped>\n",
       "    .dataframe tbody tr th:only-of-type {\n",
       "        vertical-align: middle;\n",
       "    }\n",
       "\n",
       "    .dataframe tbody tr th {\n",
       "        vertical-align: top;\n",
       "    }\n",
       "\n",
       "    .dataframe thead th {\n",
       "        text-align: right;\n",
       "    }\n",
       "</style>\n",
       "<table border=\"1\" class=\"dataframe\">\n",
       "  <thead>\n",
       "    <tr style=\"text-align: right;\">\n",
       "      <th></th>\n",
       "      <th>AAPL</th>\n",
       "      <th>AMZN</th>\n",
       "      <th>FB</th>\n",
       "      <th>GOOGL</th>\n",
       "      <th>MSFT</th>\n",
       "      <th>NFLX</th>\n",
       "      <th>NIO</th>\n",
       "      <th>PCG</th>\n",
       "      <th>SPOT</th>\n",
       "      <th>TIF</th>\n",
       "      <th>TSLA</th>\n",
       "    </tr>\n",
       "  </thead>\n",
       "  <tbody>\n",
       "    <tr>\n",
       "      <th>0</th>\n",
       "      <td>NaN</td>\n",
       "      <td>NaN</td>\n",
       "      <td>NaN</td>\n",
       "      <td>NaN</td>\n",
       "      <td>NaN</td>\n",
       "      <td>NaN</td>\n",
       "      <td>NaN</td>\n",
       "      <td>NaN</td>\n",
       "      <td>NaN</td>\n",
       "      <td>NaN</td>\n",
       "      <td>NaN</td>\n",
       "    </tr>\n",
       "    <tr>\n",
       "      <th>1</th>\n",
       "      <td>0.002768</td>\n",
       "      <td>-0.000150</td>\n",
       "      <td>-0.012747</td>\n",
       "      <td>-0.011403</td>\n",
       "      <td>-0.014098</td>\n",
       "      <td>0.007324</td>\n",
       "      <td>-0.153846</td>\n",
       "      <td>-0.010000</td>\n",
       "      <td>-0.012982</td>\n",
       "      <td>-0.018892</td>\n",
       "      <td>0.015859</td>\n",
       "    </tr>\n",
       "    <tr>\n",
       "      <th>2</th>\n",
       "      <td>-0.025068</td>\n",
       "      <td>-0.012917</td>\n",
       "      <td>-0.006882</td>\n",
       "      <td>-0.023625</td>\n",
       "      <td>-0.017655</td>\n",
       "      <td>-0.005750</td>\n",
       "      <td>0.204545</td>\n",
       "      <td>-0.094949</td>\n",
       "      <td>0.012265</td>\n",
       "      <td>-0.025088</td>\n",
       "      <td>-0.006375</td>\n",
       "    </tr>\n",
       "    <tr>\n",
       "      <th>3</th>\n",
       "      <td>0.008495</td>\n",
       "      <td>0.006532</td>\n",
       "      <td>0.027377</td>\n",
       "      <td>0.009519</td>\n",
       "      <td>0.012105</td>\n",
       "      <td>0.000448</td>\n",
       "      <td>0.031447</td>\n",
       "      <td>0.065848</td>\n",
       "      <td>0.008077</td>\n",
       "      <td>0.006659</td>\n",
       "      <td>-0.041542</td>\n",
       "    </tr>\n",
       "    <tr>\n",
       "      <th>4</th>\n",
       "      <td>0.028032</td>\n",
       "      <td>0.008832</td>\n",
       "      <td>0.005965</td>\n",
       "      <td>0.017822</td>\n",
       "      <td>0.013502</td>\n",
       "      <td>0.017304</td>\n",
       "      <td>-0.012195</td>\n",
       "      <td>0.138220</td>\n",
       "      <td>0.013935</td>\n",
       "      <td>-0.012670</td>\n",
       "      <td>-0.006866</td>\n",
       "    </tr>\n",
       "  </tbody>\n",
       "</table>\n",
       "</div>"
      ],
      "text/plain": [
       "       AAPL      AMZN        FB     GOOGL      MSFT      NFLX       NIO  \\\n",
       "0       NaN       NaN       NaN       NaN       NaN       NaN       NaN   \n",
       "1  0.002768 -0.000150 -0.012747 -0.011403 -0.014098  0.007324 -0.153846   \n",
       "2 -0.025068 -0.012917 -0.006882 -0.023625 -0.017655 -0.005750  0.204545   \n",
       "3  0.008495  0.006532  0.027377  0.009519  0.012105  0.000448  0.031447   \n",
       "4  0.028032  0.008832  0.005965  0.017822  0.013502  0.017304 -0.012195   \n",
       "\n",
       "        PCG      SPOT       TIF      TSLA  \n",
       "0       NaN       NaN       NaN       NaN  \n",
       "1 -0.010000 -0.012982 -0.018892  0.015859  \n",
       "2 -0.094949  0.012265 -0.025088 -0.006375  \n",
       "3  0.065848  0.008077  0.006659 -0.041542  \n",
       "4  0.138220  0.013935 -0.012670 -0.006866  "
      ]
     },
     "execution_count": 32,
     "metadata": {},
     "output_type": "execute_result"
    }
   ],
   "source": [
    "returns = df.pct_change()\n",
    "returns.head()"
   ]
  },
  {
   "cell_type": "code",
   "execution_count": 33,
   "metadata": {},
   "outputs": [
    {
     "data": {
      "text/html": [
       "<div>\n",
       "<style scoped>\n",
       "    .dataframe tbody tr th:only-of-type {\n",
       "        vertical-align: middle;\n",
       "    }\n",
       "\n",
       "    .dataframe tbody tr th {\n",
       "        vertical-align: top;\n",
       "    }\n",
       "\n",
       "    .dataframe thead th {\n",
       "        text-align: right;\n",
       "    }\n",
       "</style>\n",
       "<table border=\"1\" class=\"dataframe\">\n",
       "  <thead>\n",
       "    <tr style=\"text-align: right;\">\n",
       "      <th></th>\n",
       "      <th>AAPL</th>\n",
       "      <th>AMZN</th>\n",
       "      <th>FB</th>\n",
       "      <th>GOOGL</th>\n",
       "      <th>MSFT</th>\n",
       "      <th>NFLX</th>\n",
       "      <th>NIO</th>\n",
       "      <th>PCG</th>\n",
       "      <th>SPOT</th>\n",
       "      <th>TIF</th>\n",
       "      <th>TSLA</th>\n",
       "    </tr>\n",
       "  </thead>\n",
       "  <tbody>\n",
       "    <tr>\n",
       "      <th>16</th>\n",
       "      <td>-0.002287</td>\n",
       "      <td>-0.011161</td>\n",
       "      <td>-0.039102</td>\n",
       "      <td>-0.002688</td>\n",
       "      <td>-0.014881</td>\n",
       "      <td>-0.040856</td>\n",
       "      <td>-0.065089</td>\n",
       "      <td>0.007463</td>\n",
       "      <td>-0.008319</td>\n",
       "      <td>0.015519</td>\n",
       "      <td>0.008205</td>\n",
       "    </tr>\n",
       "    <tr>\n",
       "      <th>17</th>\n",
       "      <td>0.013419</td>\n",
       "      <td>-0.002016</td>\n",
       "      <td>0.020895</td>\n",
       "      <td>0.013140</td>\n",
       "      <td>0.006380</td>\n",
       "      <td>0.017173</td>\n",
       "      <td>-0.031646</td>\n",
       "      <td>0.012346</td>\n",
       "      <td>0.001864</td>\n",
       "      <td>0.016161</td>\n",
       "      <td>-0.003521</td>\n",
       "    </tr>\n",
       "    <tr>\n",
       "      <th>18</th>\n",
       "      <td>0.001645</td>\n",
       "      <td>0.010561</td>\n",
       "      <td>0.001236</td>\n",
       "      <td>0.001477</td>\n",
       "      <td>0.019674</td>\n",
       "      <td>0.000848</td>\n",
       "      <td>0.006536</td>\n",
       "      <td>-0.121951</td>\n",
       "      <td>0.005075</td>\n",
       "      <td>0.056692</td>\n",
       "      <td>0.176692</td>\n",
       "    </tr>\n",
       "    <tr>\n",
       "      <th>19</th>\n",
       "      <td>0.012316</td>\n",
       "      <td>-0.010922</td>\n",
       "      <td>0.008102</td>\n",
       "      <td>0.003283</td>\n",
       "      <td>0.005645</td>\n",
       "      <td>0.019595</td>\n",
       "      <td>-0.019481</td>\n",
       "      <td>-0.305556</td>\n",
       "      <td>0.015653</td>\n",
       "      <td>0.009010</td>\n",
       "      <td>0.094935</td>\n",
       "    </tr>\n",
       "    <tr>\n",
       "      <th>20</th>\n",
       "      <td>0.010017</td>\n",
       "      <td>0.008942</td>\n",
       "      <td>0.008037</td>\n",
       "      <td>0.019658</td>\n",
       "      <td>0.024586</td>\n",
       "      <td>0.018207</td>\n",
       "      <td>-0.019868</td>\n",
       "      <td>-0.240000</td>\n",
       "      <td>0.161654</td>\n",
       "      <td>0.316286</td>\n",
       "      <td>-0.001280</td>\n",
       "    </tr>\n",
       "  </tbody>\n",
       "</table>\n",
       "</div>"
      ],
      "text/plain": [
       "        AAPL      AMZN        FB     GOOGL      MSFT      NFLX       NIO  \\\n",
       "16 -0.002287 -0.011161 -0.039102 -0.002688 -0.014881 -0.040856 -0.065089   \n",
       "17  0.013419 -0.002016  0.020895  0.013140  0.006380  0.017173 -0.031646   \n",
       "18  0.001645  0.010561  0.001236  0.001477  0.019674  0.000848  0.006536   \n",
       "19  0.012316 -0.010922  0.008102  0.003283  0.005645  0.019595 -0.019481   \n",
       "20  0.010017  0.008942  0.008037  0.019658  0.024586  0.018207 -0.019868   \n",
       "\n",
       "         PCG      SPOT       TIF      TSLA  \n",
       "16  0.007463 -0.008319  0.015519  0.008205  \n",
       "17  0.012346  0.001864  0.016161 -0.003521  \n",
       "18 -0.121951  0.005075  0.056692  0.176692  \n",
       "19 -0.305556  0.015653  0.009010  0.094935  \n",
       "20 -0.240000  0.161654  0.316286 -0.001280  "
      ]
     },
     "execution_count": 33,
     "metadata": {},
     "output_type": "execute_result"
    }
   ],
   "source": [
    "returns.tail()"
   ]
  },
  {
   "cell_type": "code",
   "execution_count": 17,
   "metadata": {},
   "outputs": [],
   "source": [
    "mean_daily_returns = returns.mean()\n",
    "cov_matrix = returns.cov()"
   ]
  },
  {
   "cell_type": "code",
   "execution_count": 18,
   "metadata": {},
   "outputs": [],
   "source": [
    "num_portfolios = 100000"
   ]
  },
  {
   "cell_type": "code",
   "execution_count": 30,
   "metadata": {},
   "outputs": [
    {
     "name": "stdout",
     "output_type": "stream",
     "text": [
      "AAPL     0.005393\n",
      "AMZN     0.001223\n",
      "FB       0.003229\n",
      "GOOGL    0.002897\n",
      "MSFT     0.001905\n",
      "NFLX     0.002857\n",
      "NIO     -0.000004\n",
      "PCG     -0.039602\n",
      "SPOT     0.011051\n",
      "TIF      0.019157\n",
      "TSLA     0.016443\n",
      "dtype: float64\n"
     ]
    }
   ],
   "source": [
    "print(mean_daily_returns)"
   ]
  },
  {
   "cell_type": "code",
   "execution_count": 31,
   "metadata": {},
   "outputs": [
    {
     "name": "stdout",
     "output_type": "stream",
     "text": [
      "           AAPL      AMZN        FB     GOOGL      MSFT      NFLX       NIO  \\\n",
      "AAPL   0.000152  0.000057  0.000096  0.000091  0.000090  0.000102 -0.000311   \n",
      "AMZN   0.000057  0.000107  0.000127  0.000081  0.000099  0.000102 -0.000113   \n",
      "FB     0.000096  0.000127  0.000300  0.000122  0.000157  0.000211  0.000194   \n",
      "GOOGL  0.000091  0.000081  0.000122  0.000130  0.000120  0.000096 -0.000301   \n",
      "MSFT   0.000090  0.000099  0.000157  0.000120  0.000171  0.000129 -0.000095   \n",
      "NFLX   0.000102  0.000102  0.000211  0.000096  0.000129  0.000544 -0.000391   \n",
      "NIO   -0.000311 -0.000113  0.000194 -0.000301 -0.000095 -0.000391  0.005693   \n",
      "PCG    0.000155  0.000294  0.000188  0.000080 -0.000268 -0.000933  0.000373   \n",
      "SPOT   0.000093  0.000146  0.000219  0.000198  0.000274  0.000228  0.000371   \n",
      "TIF    0.000183  0.000248  0.000244  0.000383  0.000537  0.000352 -0.000625   \n",
      "TSLA  -0.000034  0.000023 -0.000071 -0.000032  0.000144  0.000119 -0.000532   \n",
      "\n",
      "            PCG      SPOT       TIF      TSLA  \n",
      "AAPL   0.000155  0.000093  0.000183 -0.000034  \n",
      "AMZN   0.000294  0.000146  0.000248  0.000023  \n",
      "FB     0.000188  0.000219  0.000244 -0.000071  \n",
      "GOOGL  0.000080  0.000198  0.000383 -0.000032  \n",
      "MSFT  -0.000268  0.000274  0.000537  0.000144  \n",
      "NFLX  -0.000933  0.000228  0.000352  0.000119  \n",
      "NIO    0.000373  0.000371 -0.000625 -0.000532  \n",
      "PCG    0.013815 -0.001459 -0.003270 -0.002153  \n",
      "SPOT  -0.001459  0.001496  0.002611 -0.000121  \n",
      "TIF   -0.003270  0.002611  0.005402  0.000254  \n",
      "TSLA  -0.002153 -0.000121  0.000254  0.002123  \n"
     ]
    }
   ],
   "source": [
    "print(cov_matrix)"
   ]
  },
  {
   "cell_type": "code",
   "execution_count": 21,
   "metadata": {},
   "outputs": [],
   "source": [
    "results = np.zeros((4+len(stocks)-1,num_portfolios))"
   ]
  },
  {
   "cell_type": "code",
   "execution_count": 22,
   "metadata": {},
   "outputs": [],
   "source": [
    "for i in range(num_portfolios):\n",
    "    weights = np.array(np.random.uniform(-0.25,0.25,11))\n",
    "    \n",
    "    #calculate portfolio return and volatility\n",
    "    portfolio_return = np.sum(mean_daily_returns * weights) * 252\n",
    "    portfolio_std_dev = np.sqrt(np.dot(weights.T,np.dot(cov_matrix, weights))) * np.sqrt(252)\n",
    "    \n",
    "    #store results in results array\n",
    "    results[0,i] = portfolio_return\n",
    "    results[1,i] = portfolio_std_dev\n",
    "    #store Sharpe Ratio (return / volatility) - risk free rate element excluded for simplicity\n",
    "    results[2,i] = results[0,i] / results[1,i]\n",
    "    \n",
    "    for j in range(len(weights)):\n",
    "        results[j+3,i] = weights[j]"
   ]
  },
  {
   "cell_type": "code",
   "execution_count": 23,
   "metadata": {},
   "outputs": [],
   "source": [
    "results_frame = pd.DataFrame(results.T,columns=['ret','stdev','sharpe',stocks[0],stocks[1],stocks[2],stocks[3],stocks[4],stocks[5],stocks[6],stocks[7],stocks[8], stocks[9], stocks[10]])"
   ]
  },
  {
   "cell_type": "code",
   "execution_count": 24,
   "metadata": {},
   "outputs": [],
   "source": [
    "import matplotlib.pyplot as plt"
   ]
  },
  {
   "cell_type": "code",
   "execution_count": 25,
   "metadata": {},
   "outputs": [
    {
     "name": "stderr",
     "output_type": "stream",
     "text": [
      "No handles with labels found to put in legend.\n"
     ]
    },
    {
     "data": {
      "text/plain": [
       "<matplotlib.colorbar.Colorbar at 0x2327ee1ffc8>"
      ]
     },
     "execution_count": 25,
     "metadata": {},
     "output_type": "execute_result"
    },
    {
     "data": {
      "image/png": "[encoded data removed]",
      "text/plain": [
       "<Figure size 432x288 with 2 Axes>"
      ]
     },
     "metadata": {
      "needs_background": "light"
     },
     "output_type": "display_data"
    }
   ],
   "source": [
    "plt.xlabel('Volatility/Standard Deviation')\n",
    "plt.ylabel('Returns')\n",
    "plt.legend()\n",
    "plt.scatter(results_frame.stdev, results_frame.ret, c=results_frame.sharpe, cmap='RdYlBu')\n",
    "plt.colorbar()"
   ]
  },
  {
   "cell_type": "code",
   "execution_count": 26,
   "metadata": {},
   "outputs": [],
   "source": [
    "max_sharpe_portfolio = results_frame.loc[results_frame['sharpe'].idxmax()]\n",
    "\n",
    "max_return_portfolio = results_frame.loc[results_frame['ret'].idxmax()]\n",
    "\n",
    "min_std_portfolio = results_frame.loc[results_frame['stdev'].idxmin()]"
   ]
  },
  {
   "cell_type": "code",
   "execution_count": 27,
   "metadata": {},
   "outputs": [
    {
     "name": "stdout",
     "output_type": "stream",
     "text": [
      "ret       5.391486\n",
      "stdev     0.826379\n",
      "sharpe    6.524225\n",
      "AAPL      0.034810\n",
      "AMZN     -0.003125\n",
      "FB        0.217493\n",
      "GOOGL     0.110311\n",
      "MSFT      0.090294\n",
      "NFLX      0.014413\n",
      "NIO       0.220386\n",
      "PCG      -0.249099\n",
      "SPOT      0.230506\n",
      "TIF       0.249628\n",
      "TSLA      0.169217\n",
      "Name: 45404, dtype: float64\n"
     ]
    }
   ],
   "source": [
    "print(max_return_portfolio)"
   ]
  },
  {
   "cell_type": "code",
   "execution_count": 28,
   "metadata": {},
   "outputs": [
    {
     "name": "stdout",
     "output_type": "stream",
     "text": [
      "ret       1.922385\n",
      "stdev     0.203088\n",
      "sharpe    9.465781\n",
      "AAPL      0.214892\n",
      "AMZN     -0.104828\n",
      "FB        0.139022\n",
      "GOOGL     0.184372\n",
      "MSFT     -0.113862\n",
      "NFLX     -0.112829\n",
      "NIO       0.024069\n",
      "PCG      -0.051897\n",
      "SPOT      0.102994\n",
      "TIF      -0.040429\n",
      "TSLA      0.227173\n",
      "Name: 28847, dtype: float64\n"
     ]
    }
   ],
   "source": [
    "print(max_sharpe_portfolio)"
   ]
  },
  {
   "cell_type": "code",
   "execution_count": 29,
   "metadata": {},
   "outputs": [
    {
     "name": "stdout",
     "output_type": "stream",
     "text": [
      "ret      -0.070868\n",
      "stdev     0.040079\n",
      "sharpe   -1.768201\n",
      "AAPL     -0.065937\n",
      "AMZN      0.212083\n",
      "FB        0.044565\n",
      "GOOGL     0.141056\n",
      "MSFT     -0.164241\n",
      "NFLX     -0.018275\n",
      "NIO       0.020150\n",
      "PCG       0.000572\n",
      "SPOT     -0.140567\n",
      "TIF       0.055378\n",
      "TSLA      0.008688\n",
      "Name: 61010, dtype: float64\n"
     ]
    }
   ],
   "source": [
    "print(min_std_portfolio)"
   ]
  },
  {
   "cell_type": "code",
   "execution_count": 34,
   "metadata": {},
   "outputs": [],
   "source": [
    "bench = pd.read_csv('D:/Anaconda/S&P500.csv')\n",
    "bench = bench['Adj Close']\n",
    "\n",
    "bench_returns = bench.pct_change()\n",
    "bench_mean_daily_return = bench_returns.mean()\n",
    "bench_annualized_return = (bench_mean_daily_return * 252)\n",
    "bench_std = bench_returns.std() * np.sqrt(252)"
   ]
  },
  {
   "cell_type": "code",
   "execution_count": 39,
   "metadata": {},
   "outputs": [
    {
     "name": "stderr",
     "output_type": "stream",
     "text": [
      "No handles with labels found to put in legend.\n"
     ]
    },
    {
     "ename": "TypeError",
     "evalue": "You must first set_array for mappable",
     "output_type": "error",
     "traceback": [
      "\u001b[1;31m---------------------------------------------------------------------------\u001b[0m",
      "\u001b[1;31mTypeError\u001b[0m                                 Traceback (most recent call last)",
      "\u001b[1;32m<ipython-input-39-295a303c59fb>\u001b[0m in \u001b[0;36m<module>\u001b[1;34m\u001b[0m\n\u001b[0;32m      4\u001b[0m \u001b[0mplt\u001b[0m\u001b[1;33m.\u001b[0m\u001b[0mscatter\u001b[0m\u001b[1;33m(\u001b[0m\u001b[0mresults_frame\u001b[0m\u001b[1;33m.\u001b[0m\u001b[0mstdev\u001b[0m\u001b[1;33m,\u001b[0m \u001b[0mresults_frame\u001b[0m\u001b[1;33m.\u001b[0m\u001b[0mret\u001b[0m\u001b[1;33m,\u001b[0m \u001b[0mc\u001b[0m\u001b[1;33m=\u001b[0m\u001b[0mresults_frame\u001b[0m\u001b[1;33m.\u001b[0m\u001b[0msharpe\u001b[0m\u001b[1;33m,\u001b[0m \u001b[0mcmap\u001b[0m\u001b[1;33m=\u001b[0m\u001b[1;34m'RdYlBu'\u001b[0m\u001b[1;33m)\u001b[0m\u001b[1;33m\u001b[0m\u001b[1;33m\u001b[0m\u001b[0m\n\u001b[0;32m      5\u001b[0m \u001b[0mplt\u001b[0m\u001b[1;33m.\u001b[0m\u001b[0mscatter\u001b[0m\u001b[1;33m(\u001b[0m\u001b[0mbench_std\u001b[0m\u001b[1;33m,\u001b[0m \u001b[0mbench_annualized_return\u001b[0m\u001b[1;33m,\u001b[0m\u001b[0mcolor\u001b[0m\u001b[1;33m=\u001b[0m\u001b[1;34m'k'\u001b[0m\u001b[1;33m)\u001b[0m\u001b[1;33m\u001b[0m\u001b[1;33m\u001b[0m\u001b[0m\n\u001b[1;32m----> 6\u001b[1;33m \u001b[0mplt\u001b[0m\u001b[1;33m.\u001b[0m\u001b[0mcolorbar\u001b[0m\u001b[1;33m(\u001b[0m\u001b[1;33m)\u001b[0m\u001b[1;33m\u001b[0m\u001b[1;33m\u001b[0m\u001b[0m\n\u001b[0m\u001b[0;32m      7\u001b[0m \u001b[0mplt\u001b[0m\u001b[1;33m.\u001b[0m\u001b[0mshow\u001b[0m\u001b[1;33m(\u001b[0m\u001b[1;33m)\u001b[0m\u001b[1;33m\u001b[0m\u001b[1;33m\u001b[0m\u001b[0m\n",
      "\u001b[1;32mD:\\Anaconda\\lib\\site-packages\\matplotlib\\pyplot.py\u001b[0m in \u001b[0;36mcolorbar\u001b[1;34m(mappable, cax, ax, **kw)\u001b[0m\n\u001b[0;32m   2098\u001b[0m         \u001b[0max\u001b[0m \u001b[1;33m=\u001b[0m \u001b[0mgca\u001b[0m\u001b[1;33m(\u001b[0m\u001b[1;33m)\u001b[0m\u001b[1;33m\u001b[0m\u001b[1;33m\u001b[0m\u001b[0m\n\u001b[0;32m   2099\u001b[0m \u001b[1;33m\u001b[0m\u001b[0m\n\u001b[1;32m-> 2100\u001b[1;33m     \u001b[0mret\u001b[0m \u001b[1;33m=\u001b[0m \u001b[0mgcf\u001b[0m\u001b[1;33m(\u001b[0m\u001b[1;33m)\u001b[0m\u001b[1;33m.\u001b[0m\u001b[0mcolorbar\u001b[0m\u001b[1;33m(\u001b[0m\u001b[0mmappable\u001b[0m\u001b[1;33m,\u001b[0m \u001b[0mcax\u001b[0m \u001b[1;33m=\u001b[0m \u001b[0mcax\u001b[0m\u001b[1;33m,\u001b[0m \u001b[0max\u001b[0m\u001b[1;33m=\u001b[0m\u001b[0max\u001b[0m\u001b[1;33m,\u001b[0m \u001b[1;33m**\u001b[0m\u001b[0mkw\u001b[0m\u001b[1;33m)\u001b[0m\u001b[1;33m\u001b[0m\u001b[1;33m\u001b[0m\u001b[0m\n\u001b[0m\u001b[0;32m   2101\u001b[0m     \u001b[1;32mreturn\u001b[0m \u001b[0mret\u001b[0m\u001b[1;33m\u001b[0m\u001b[1;33m\u001b[0m\u001b[0m\n\u001b[0;32m   2102\u001b[0m \u001b[0mcolorbar\u001b[0m\u001b[1;33m.\u001b[0m\u001b[0m__doc__\u001b[0m \u001b[1;33m=\u001b[0m \u001b[0mmatplotlib\u001b[0m\u001b[1;33m.\u001b[0m\u001b[0mcolorbar\u001b[0m\u001b[1;33m.\u001b[0m\u001b[0mcolorbar_doc\u001b[0m\u001b[1;33m\u001b[0m\u001b[1;33m\u001b[0m\u001b[0m\n",
      "\u001b[1;32mD:\\Anaconda\\lib\\site-packages\\matplotlib\\figure.py\u001b[0m in \u001b[0;36mcolorbar\u001b[1;34m(self, mappable, cax, ax, use_gridspec, **kw)\u001b[0m\n\u001b[0;32m   2127\u001b[0m                              'panchor']\n\u001b[0;32m   2128\u001b[0m         \u001b[0mcb_kw\u001b[0m \u001b[1;33m=\u001b[0m \u001b[1;33m{\u001b[0m\u001b[0mk\u001b[0m\u001b[1;33m:\u001b[0m \u001b[0mv\u001b[0m \u001b[1;32mfor\u001b[0m \u001b[0mk\u001b[0m\u001b[1;33m,\u001b[0m \u001b[0mv\u001b[0m \u001b[1;32min\u001b[0m \u001b[0mkw\u001b[0m\u001b[1;33m.\u001b[0m\u001b[0mitems\u001b[0m\u001b[1;33m(\u001b[0m\u001b[1;33m)\u001b[0m \u001b[1;32mif\u001b[0m \u001b[0mk\u001b[0m \u001b[1;32mnot\u001b[0m \u001b[1;32min\u001b[0m \u001b[0mNON_COLORBAR_KEYS\u001b[0m\u001b[1;33m}\u001b[0m\u001b[1;33m\u001b[0m\u001b[1;33m\u001b[0m\u001b[0m\n\u001b[1;32m-> 2129\u001b[1;33m         \u001b[0mcb\u001b[0m \u001b[1;33m=\u001b[0m \u001b[0mcbar\u001b[0m\u001b[1;33m.\u001b[0m\u001b[0mcolorbar_factory\u001b[0m\u001b[1;33m(\u001b[0m\u001b[0mcax\u001b[0m\u001b[1;33m,\u001b[0m \u001b[0mmappable\u001b[0m\u001b[1;33m,\u001b[0m \u001b[1;33m**\u001b[0m\u001b[0mcb_kw\u001b[0m\u001b[1;33m)\u001b[0m\u001b[1;33m\u001b[0m\u001b[1;33m\u001b[0m\u001b[0m\n\u001b[0m\u001b[0;32m   2130\u001b[0m \u001b[1;33m\u001b[0m\u001b[0m\n\u001b[0;32m   2131\u001b[0m         \u001b[0mself\u001b[0m\u001b[1;33m.\u001b[0m\u001b[0msca\u001b[0m\u001b[1;33m(\u001b[0m\u001b[0mcurrent_ax\u001b[0m\u001b[1;33m)\u001b[0m\u001b[1;33m\u001b[0m\u001b[1;33m\u001b[0m\u001b[0m\n",
      "\u001b[1;32mD:\\Anaconda\\lib\\site-packages\\matplotlib\\colorbar.py\u001b[0m in \u001b[0;36mcolorbar_factory\u001b[1;34m(cax, mappable, **kwargs)\u001b[0m\n\u001b[0;32m   1564\u001b[0m         \u001b[0mcb\u001b[0m \u001b[1;33m=\u001b[0m \u001b[0mColorbarPatch\u001b[0m\u001b[1;33m(\u001b[0m\u001b[0mcax\u001b[0m\u001b[1;33m,\u001b[0m \u001b[0mmappable\u001b[0m\u001b[1;33m,\u001b[0m \u001b[1;33m**\u001b[0m\u001b[0mkwargs\u001b[0m\u001b[1;33m)\u001b[0m\u001b[1;33m\u001b[0m\u001b[1;33m\u001b[0m\u001b[0m\n\u001b[0;32m   1565\u001b[0m     \u001b[1;32melse\u001b[0m\u001b[1;33m:\u001b[0m\u001b[1;33m\u001b[0m\u001b[1;33m\u001b[0m\u001b[0m\n\u001b[1;32m-> 1566\u001b[1;33m         \u001b[0mcb\u001b[0m \u001b[1;33m=\u001b[0m \u001b[0mColorbar\u001b[0m\u001b[1;33m(\u001b[0m\u001b[0mcax\u001b[0m\u001b[1;33m,\u001b[0m \u001b[0mmappable\u001b[0m\u001b[1;33m,\u001b[0m \u001b[1;33m**\u001b[0m\u001b[0mkwargs\u001b[0m\u001b[1;33m)\u001b[0m\u001b[1;33m\u001b[0m\u001b[1;33m\u001b[0m\u001b[0m\n\u001b[0m\u001b[0;32m   1567\u001b[0m \u001b[1;33m\u001b[0m\u001b[0m\n\u001b[0;32m   1568\u001b[0m     \u001b[0mcid\u001b[0m \u001b[1;33m=\u001b[0m \u001b[0mmappable\u001b[0m\u001b[1;33m.\u001b[0m\u001b[0mcallbacksSM\u001b[0m\u001b[1;33m.\u001b[0m\u001b[0mconnect\u001b[0m\u001b[1;33m(\u001b[0m\u001b[1;34m'changed'\u001b[0m\u001b[1;33m,\u001b[0m \u001b[0mcb\u001b[0m\u001b[1;33m.\u001b[0m\u001b[0mon_mappable_changed\u001b[0m\u001b[1;33m)\u001b[0m\u001b[1;33m\u001b[0m\u001b[1;33m\u001b[0m\u001b[0m\n",
      "\u001b[1;32mD:\\Anaconda\\lib\\site-packages\\matplotlib\\colorbar.py\u001b[0m in \u001b[0;36m__init__\u001b[1;34m(self, ax, mappable, **kw)\u001b[0m\n\u001b[0;32m   1070\u001b[0m         \u001b[1;31m# Ensure the given mappable's norm has appropriate vmin and vmax set\u001b[0m\u001b[1;33m\u001b[0m\u001b[1;33m\u001b[0m\u001b[1;33m\u001b[0m\u001b[0m\n\u001b[0;32m   1071\u001b[0m         \u001b[1;31m# even if mappable.draw has not yet been called.\u001b[0m\u001b[1;33m\u001b[0m\u001b[1;33m\u001b[0m\u001b[1;33m\u001b[0m\u001b[0m\n\u001b[1;32m-> 1072\u001b[1;33m         \u001b[0mmappable\u001b[0m\u001b[1;33m.\u001b[0m\u001b[0mautoscale_None\u001b[0m\u001b[1;33m(\u001b[0m\u001b[1;33m)\u001b[0m\u001b[1;33m\u001b[0m\u001b[1;33m\u001b[0m\u001b[0m\n\u001b[0m\u001b[0;32m   1073\u001b[0m \u001b[1;33m\u001b[0m\u001b[0m\n\u001b[0;32m   1074\u001b[0m         \u001b[0mself\u001b[0m\u001b[1;33m.\u001b[0m\u001b[0mmappable\u001b[0m \u001b[1;33m=\u001b[0m \u001b[0mmappable\u001b[0m\u001b[1;33m\u001b[0m\u001b[1;33m\u001b[0m\u001b[0m\n",
      "\u001b[1;32mD:\\Anaconda\\lib\\site-packages\\matplotlib\\cm.py\u001b[0m in \u001b[0;36mautoscale_None\u001b[1;34m(self)\u001b[0m\n\u001b[0;32m    372\u001b[0m         \"\"\"\n\u001b[0;32m    373\u001b[0m         \u001b[1;32mif\u001b[0m \u001b[0mself\u001b[0m\u001b[1;33m.\u001b[0m\u001b[0m_A\u001b[0m \u001b[1;32mis\u001b[0m \u001b[1;32mNone\u001b[0m\u001b[1;33m:\u001b[0m\u001b[1;33m\u001b[0m\u001b[1;33m\u001b[0m\u001b[0m\n\u001b[1;32m--> 374\u001b[1;33m             \u001b[1;32mraise\u001b[0m \u001b[0mTypeError\u001b[0m\u001b[1;33m(\u001b[0m\u001b[1;34m'You must first set_array for mappable'\u001b[0m\u001b[1;33m)\u001b[0m\u001b[1;33m\u001b[0m\u001b[1;33m\u001b[0m\u001b[0m\n\u001b[0m\u001b[0;32m    375\u001b[0m         \u001b[0mself\u001b[0m\u001b[1;33m.\u001b[0m\u001b[0mnorm\u001b[0m\u001b[1;33m.\u001b[0m\u001b[0mautoscale_None\u001b[0m\u001b[1;33m(\u001b[0m\u001b[0mself\u001b[0m\u001b[1;33m.\u001b[0m\u001b[0m_A\u001b[0m\u001b[1;33m)\u001b[0m\u001b[1;33m\u001b[0m\u001b[1;33m\u001b[0m\u001b[0m\n\u001b[0;32m    376\u001b[0m         \u001b[0mself\u001b[0m\u001b[1;33m.\u001b[0m\u001b[0mchanged\u001b[0m\u001b[1;33m(\u001b[0m\u001b[1;33m)\u001b[0m\u001b[1;33m\u001b[0m\u001b[1;33m\u001b[0m\u001b[0m\n",
      "\u001b[1;31mTypeError\u001b[0m: You must first set_array for mappable"
     ]
    },
    {
     "data": {
      "image/png": "[encoded data removed]",
      "text/plain": [
       "<Figure size 432x288 with 2 Axes>"
      ]
     },
     "metadata": {
      "needs_background": "light"
     },
     "output_type": "display_data"
    }
   ],
   "source": [
    "plt.xlabel('Volatility/Standard Deviation')\n",
    "plt.ylabel('Returns')\n",
    "plt.legend()\n",
    "plt.scatter(results_frame.stdev, results_frame.ret, c=results_frame.sharpe, cmap='RdYlBu')\n",
    "plt.scatter(bench_std, bench_annualized_return,color='k')\n",
    "plt.colorbar()\n",
    "plt.show()"
   ]
  },
  {
   "cell_type": "code",
   "execution_count": null,
   "metadata": {},
   "outputs": [],
   "source": []
  }
 ],
 "metadata": {
  "kernelspec": {
   "display_name": "Python 3",
   "language": "python",
   "name": "python3"
  },
  "language_info": {
   "codemirror_mode": {
    "name": "ipython",
    "version": 3
   },
   "file_extension": ".py",
   "mimetype": "text/x-python",
   "name": "python",
   "nbconvert_exporter": "python",
   "pygments_lexer": "ipython3",
   "version": "3.7.4"
  }
 },
 "nbformat": 4,
 "nbformat_minor": 2
}
