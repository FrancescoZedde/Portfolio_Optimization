{
 "cells": [
  {
   "cell_type": "markdown",
   "metadata": {},
   "source": [
    "## Lezione (0) Python e ambienti di programmazione (IDE) "
   ]
  },
  {
   "cell_type": "markdown",
   "metadata": {},
   "source": [
    "### Python "
   ]
  },
  {
   "cell_type": "markdown",
   "metadata": {},
   "source": [
    "Nato intorno agli anni '90 <b>Python</b> è un linguaggio di programmazione moderno e ad alto livello, dalla sintassi semplice ma potente. Nel tempo si è dimostrato essere uno dei linguaggi più apprezzati dalla community di sviluppatori, tanto che il numero di programmatori che lo utilizzano attivamente è cresciuto vertiginosamente, così come il numero di applicazioni sviluppate e rilasciate.<br> \n",
    "\n",
    "Ma a cosa è dovuto il successo di Python?<br>\n",
    "\n",
    "In due parole: <b>Big Data</b>. Secondo un vecchio articolo della rivista Forbes tra il 2013 e il 2015 abbiamo prodotto più dati che in tutta la storia dell’umanità fino ad allora, e varie stime indicano che nel 2020 ci saranno circa 44 zetabyte di dati che circoleranno per il globo (440 miliardi di gigabyte).\n",
    "<br><br>\n",
    "Alcuni dei principali vantaggi di Python:\n",
    "- Progetto completamente open source e gratuito\n",
    "- Sintassi semplice e intuitiva\n",
    "- Community molto attiva\n",
    "- Numerose librerie disponibili\n",
    "- Possibilità di creare differenti tipi di applicazioni\n",
    "\n",
    "Chi usa Python:\n",
    "- la <b>Nasa</b>, per sviluppare i propri sistemi di controllo\n",
    "- <b>Yahoo</b>, per fornire alcuni dei propri servizi internet\n",
    "- <b>Google</b> per tantissimi servizi tra cui Google Translate"
   ]
  },
  {
   "cell_type": "markdown",
   "metadata": {},
   "source": [
    "### Ambienti di programmazione - IDE (Integrated Development Environment)"
   ]
  },
  {
   "cell_type": "markdown",
   "metadata": {},
   "source": [
    "Per iniziare a programmare e creare il nostro portafoglio ottimizzato con Python abbiamo bisogno di scegliere e installare sul dispositivo uno dei vari ambienti di programmazione disponibili. Un ambiente integrato di progettazione, anche detto <b>IDE</b> (<i>Integrated Development Enviroment</i>), è un software che supporta i programmatori nello sviluppo del codice sorgente di un programma, permettendone l'esecuzione e segnalando i bug.\n",
    "\n",
    "Esistono vari IDEs che ci aiutano nella programmazione con Python. Tra tutti ne abbiamo selezionato due, che risultano essere tra i più efficaci e semplici anche per i novizi:\n",
    "- Spyder\n",
    "- Jupyter <br>\n",
    "\n",
    "entrambi scaricabili attraverso <b>Anaconda Distribution</b>.\n",
    "\n",
    "<a href=https://www.anaconda.com/distribution/>Anaconda</a> è una distribuzione gratuita e open-source per i linguaggi di programmazione Python ed R, utilizzati principalmente per il calcolo computazionale, l'analisi dei dati, il machine learning e l'analisi predittiva. La grande popolarità di Anaconda deriva dal fatto che semplifica notevolmente il setup dell'ambiente di programmazione, racchiudendo in sé tutto ciò di cui abbiamo bisogno per iniziare.\n",
    "\n",
    "Una volta installato Anaconda avremo la possibilità di utilizzare varie applicazioni per lo sviluppo dei programmi e l'analisi dati, tra cui appunto <b>Jupyter Notebook</b> e <b>Spyder</b>. La distribuzione Anaconda è sicuramente la scelta migliore anche per chi non ha mai programmato, dato che una volta completata l'installazione del pacchetto sarà possibile scegliere e installare differenti IDEs in base alle proprie esigenze. Per esempio Jupyter Notebook è ottimo per creare progetti commentati e \"puliti\" dal punto di vista grafico. Differentemente Spyder si presenta con un'interfaccia più \"grezza\" e in un primo momento potrebbe intimidire e sembrare complicata, ma con un pò di esperienza ci sono buone probabilità che diventi il vostro IDE preferito. Alcuni dei vantaggi di Spyder sono il debbuging automatico, la possibilità di accedere alla documentazione in modo istantaneo, la possibilità di visualizzare una a una tutte le variabili create.\n",
    "\n",
    "Non tratteremo l'argomento sull'intallazione del pacchetto Anaconda perché sul web sono presenti vari tutorial che spiegano dettagliatamente come procedere. In ogni caso, per qualsiasi problema, potete lasciare un commento e cercheremo di rispondere al più presto."
   ]
  },
  {
   "cell_type": "markdown",
   "metadata": {},
   "source": [
    "### Algebra lineare, statistica e matrici"
   ]
  },
  {
   "cell_type": "markdown",
   "metadata": {},
   "source": [
    "In questo paragrafo tratteremo alcune delle conoscenze fondamentali per il nostro progetto: <b>algebra lineare</b>, <b>statistica</b> e <b>matrici</b>.\n",
    "\n",
    "L'algebra lineare è quella branca della matematica che si occupa dello studio di vettori, trasformazioni lineari e sistemi di equazioni lineari. Matrici e vettori fanno quindi parte dell'algebra lineare, e ci saranno molto utili nella seconda parte del progetto per creare la frontiera efficiente dei portafogli.\n",
    "\n",
    "Utilizzeremo invece la statistica per calcolare media, varianza e rendimento di uno o più titoli, combinando questi valori per ottenere varianza e rendimento dei portafogli."
   ]
  },
  {
   "cell_type": "markdown",
   "metadata": {},
   "source": [
    "## Lezione (1) Introduzione Python e Finanza "
   ]
  },
  {
   "cell_type": "markdown",
   "metadata": {},
   "source": [
    "### Importare le librerie fondamentali"
   ]
  },
  {
   "cell_type": "markdown",
   "metadata": {},
   "source": [
    "In informatica le <b>librerie</b> sono un insieme di funzioni e strutture dati predisposte per essere collegate ad un programma software. Le librerie semplificano notevolmente la vita degli sviluppatori, poiché ci permettono di risparmiare tempo e fatica richiamando direttamente <b>funzioni</b> e <b>metodi</b> in esse contenuti. In questo modo non è necessario riscrivere la logica della funzione/metodo ogni qual volta ce ne sia bisogno.\n",
    "<br>\n",
    "Un metodo (o anche funzione) è una sorta di funzione contenente un blocco di codice che esegue delle operazioni predeterminate. Nel seguito utilizzeremo le espressioni 'funzione' e 'metodo' in maniera intercambiabile."
   ]
  },
  {
   "cell_type": "markdown",
   "metadata": {},
   "source": [
    "Due delle principali librerie in Python sono sicuramente <i>Pandas</i> e <i>Numpy</i>. \n",
    "<br><br>\n",
    "<b>Pandas</b> è una libreria che svolge un ruolo centrale nella manipolazione dei dati, ci permette di caricare, salvare e gestire grandi quantità di dati nei cosiddetti pandas DataFrame. Interamente costruita intorno a numpy e matplotlib rende la visualizzazione molto più semplice.\n",
    "<br><br>\n",
    "<b>Numpy</b> è la libreria che ci permette di effettuare le operazioni di <i>\"computing\"</i>, ovvero calcoli e operazioni tra matrici, più avanti cercheremo di capire meglio. "
   ]
  },
  {
   "cell_type": "code",
   "execution_count": 1,
   "metadata": {},
   "outputs": [],
   "source": [
    "import pandas as pd\n",
    "import numpy as np\n",
    "\n",
    "import warnings\n",
    "warnings.filterwarnings('ignore')"
   ]
  },
  {
   "cell_type": "markdown",
   "metadata": {},
   "source": [
    "Con queste due righe di codice abbiamo importato le librerie Pandas e Numpy. Per importare una libreria è sufficiente utilizzare il comando <i> 'import numpy' </i>, che abbiamo deciso di integrare con <i>'as np'</i>, un altro comando per accedere alle funzioni contenute nella libreria numpy utilizzando la più comoda dicitura <i>'np'</i>.\n",
    "\n",
    "<b>Nota</b>: la dicitura <i>'as np'</i> (e <i>'as pd'</i>) è solo una convenzione utilizzata per rendere più semplice il richiamo alla libreria. Ciò significa che per richiamare una funzione/metodo presente nell libreria pandas dobbiamo utilizzare la dicitura: _'pd.genericfunction()'_. Qualora avessimo usato _'import pandas as pds'_ avremmo dovuto utilizzare _'pds.genericfunciton()'_."
   ]
  },
  {
   "cell_type": "markdown",
   "metadata": {},
   "source": [
    "### Importare e visualizzare i dati storici"
   ]
  },
  {
   "cell_type": "markdown",
   "metadata": {},
   "source": [
    "In questo paragrafo utilizzeremo la libreria Pandas e il metodo <i>'read_csv()'</i> per importare i dati storici del titolo <b>AAPL</b> (Apple)."
   ]
  },
  {
   "cell_type": "markdown",
   "metadata": {},
   "source": [
    "Possiamo scaricare le serie storiche da uno dei tanti providers online: \n",
    "    <ul>\n",
    "  <li>Yahoo Finance</li>\n",
    "  <li>Investing</li>\n",
    "  <li>Morningstar</li>\n",
    "   </ul>\n",
    "Solitamente i dati vengono scaricati in un file del tipo <i>.csv</i>, utilizzeremo quindi il metodo <i>read_csv()</i> per importarli nel nostro IDE. Il formato CSV (<i>Comma-Separated Values</i>) è un formato utilizzato per l'importazione ed esportazione dati in fogli elettronici o database. Ovviamente esistono varie soluzioni per importare i dati, che dipendono essenzialmente dal formato del file in questione. \n",
    "\n",
    "Importiamo il file .csv utilizzando la funzione <i>read_csv()</i> presente nella libreria Pandas e salviamo la tabella di dati in una variabile che chiameremo AAPL. Per accedere ed importare i dati dal dispositivo che stiamo utilizzando è necessario specificare il percorso dove è stato salvato il file CSV. In questo caso il file è stato salvato nel disco 'D:', all'interno della cartella 'Anaconda'.\n",
    "\n",
    "<b>Tips</b>: per identificare velocemente la posizione di un file è sufficiente aprire la finestra delle 'Proprietà' utilizzando il tasto destro del mouse e, nella sezione 'Generale', troveremo il percorso del file."
   ]
  },
  {
   "cell_type": "code",
   "execution_count": 2,
   "metadata": {},
   "outputs": [],
   "source": [
    "AAPL = pd.read_csv('D:/Anaconda/AAPL.csv')"
   ]
  },
  {
   "cell_type": "markdown",
   "metadata": {},
   "source": [
    "**I file csv sono stati scaricati dal sito di Yahoo Finance**\n",
    "\n",
    "Utilizziamo la funzione <i>head()</i> per visualizzare le prime 5 righe del nostro dataset:"
   ]
  },
  {
   "cell_type": "code",
   "execution_count": 3,
   "metadata": {},
   "outputs": [
    {
     "data": {
      "text/html": [
       "<div>\n",
       "<style scoped>\n",
       "    .dataframe tbody tr th:only-of-type {\n",
       "        vertical-align: middle;\n",
       "    }\n",
       "\n",
       "    .dataframe tbody tr th {\n",
       "        vertical-align: top;\n",
       "    }\n",
       "\n",
       "    .dataframe thead th {\n",
       "        text-align: right;\n",
       "    }\n",
       "</style>\n",
       "<table border=\"1\" class=\"dataframe\">\n",
       "  <thead>\n",
       "    <tr style=\"text-align: right;\">\n",
       "      <th></th>\n",
       "      <th>Date</th>\n",
       "      <th>Open</th>\n",
       "      <th>High</th>\n",
       "      <th>Low</th>\n",
       "      <th>Close</th>\n",
       "      <th>Adj Close</th>\n",
       "      <th>Volume</th>\n",
       "    </tr>\n",
       "  </thead>\n",
       "  <tbody>\n",
       "    <tr>\n",
       "      <th>0</th>\n",
       "      <td>2018-12-06</td>\n",
       "      <td>171.759995</td>\n",
       "      <td>174.779999</td>\n",
       "      <td>170.419998</td>\n",
       "      <td>174.720001</td>\n",
       "      <td>172.133682</td>\n",
       "      <td>43098400</td>\n",
       "    </tr>\n",
       "    <tr>\n",
       "      <th>1</th>\n",
       "      <td>2018-12-07</td>\n",
       "      <td>173.490005</td>\n",
       "      <td>174.490005</td>\n",
       "      <td>168.300003</td>\n",
       "      <td>168.490005</td>\n",
       "      <td>165.995926</td>\n",
       "      <td>42281600</td>\n",
       "    </tr>\n",
       "    <tr>\n",
       "      <th>2</th>\n",
       "      <td>2018-12-10</td>\n",
       "      <td>165.000000</td>\n",
       "      <td>170.089996</td>\n",
       "      <td>163.330002</td>\n",
       "      <td>169.600006</td>\n",
       "      <td>167.089478</td>\n",
       "      <td>62026000</td>\n",
       "    </tr>\n",
       "    <tr>\n",
       "      <th>3</th>\n",
       "      <td>2018-12-11</td>\n",
       "      <td>171.660004</td>\n",
       "      <td>171.789993</td>\n",
       "      <td>167.000000</td>\n",
       "      <td>168.630005</td>\n",
       "      <td>166.133850</td>\n",
       "      <td>47281700</td>\n",
       "    </tr>\n",
       "    <tr>\n",
       "      <th>4</th>\n",
       "      <td>2018-12-12</td>\n",
       "      <td>170.399994</td>\n",
       "      <td>171.919998</td>\n",
       "      <td>169.020004</td>\n",
       "      <td>169.100006</td>\n",
       "      <td>166.596878</td>\n",
       "      <td>35627700</td>\n",
       "    </tr>\n",
       "  </tbody>\n",
       "</table>\n",
       "</div>"
      ],
      "text/plain": [
       "         Date        Open        High         Low       Close   Adj Close  \\\n",
       "0  2018-12-06  171.759995  174.779999  170.419998  174.720001  172.133682   \n",
       "1  2018-12-07  173.490005  174.490005  168.300003  168.490005  165.995926   \n",
       "2  2018-12-10  165.000000  170.089996  163.330002  169.600006  167.089478   \n",
       "3  2018-12-11  171.660004  171.789993  167.000000  168.630005  166.133850   \n",
       "4  2018-12-12  170.399994  171.919998  169.020004  169.100006  166.596878   \n",
       "\n",
       "     Volume  \n",
       "0  43098400  \n",
       "1  42281600  \n",
       "2  62026000  \n",
       "3  47281700  \n",
       "4  35627700  "
      ]
     },
     "execution_count": 3,
     "metadata": {},
     "output_type": "execute_result"
    }
   ],
   "source": [
    "AAPL.head()"
   ]
  },
  {
   "cell_type": "markdown",
   "metadata": {},
   "source": [
    "La funzione <i>head()</i> ci permette di visualizzare le prime 5 righe del DataFrame. Il valore 5 è un valore di default per la funzione <i>head()</i>. Possiamo infatti visualizzare un maggiore (o minore) numero di righe specificandolo all'interno della funzione.\n",
    "\n",
    "Per esempio:"
   ]
  },
  {
   "cell_type": "code",
   "execution_count": 4,
   "metadata": {},
   "outputs": [
    {
     "data": {
      "text/html": [
       "<div>\n",
       "<style scoped>\n",
       "    .dataframe tbody tr th:only-of-type {\n",
       "        vertical-align: middle;\n",
       "    }\n",
       "\n",
       "    .dataframe tbody tr th {\n",
       "        vertical-align: top;\n",
       "    }\n",
       "\n",
       "    .dataframe thead th {\n",
       "        text-align: right;\n",
       "    }\n",
       "</style>\n",
       "<table border=\"1\" class=\"dataframe\">\n",
       "  <thead>\n",
       "    <tr style=\"text-align: right;\">\n",
       "      <th></th>\n",
       "      <th>Date</th>\n",
       "      <th>Open</th>\n",
       "      <th>High</th>\n",
       "      <th>Low</th>\n",
       "      <th>Close</th>\n",
       "      <th>Adj Close</th>\n",
       "      <th>Volume</th>\n",
       "    </tr>\n",
       "  </thead>\n",
       "  <tbody>\n",
       "    <tr>\n",
       "      <th>0</th>\n",
       "      <td>2018-12-06</td>\n",
       "      <td>171.759995</td>\n",
       "      <td>174.779999</td>\n",
       "      <td>170.419998</td>\n",
       "      <td>174.720001</td>\n",
       "      <td>172.133682</td>\n",
       "      <td>43098400</td>\n",
       "    </tr>\n",
       "    <tr>\n",
       "      <th>1</th>\n",
       "      <td>2018-12-07</td>\n",
       "      <td>173.490005</td>\n",
       "      <td>174.490005</td>\n",
       "      <td>168.300003</td>\n",
       "      <td>168.490005</td>\n",
       "      <td>165.995926</td>\n",
       "      <td>42281600</td>\n",
       "    </tr>\n",
       "    <tr>\n",
       "      <th>2</th>\n",
       "      <td>2018-12-10</td>\n",
       "      <td>165.000000</td>\n",
       "      <td>170.089996</td>\n",
       "      <td>163.330002</td>\n",
       "      <td>169.600006</td>\n",
       "      <td>167.089478</td>\n",
       "      <td>62026000</td>\n",
       "    </tr>\n",
       "    <tr>\n",
       "      <th>3</th>\n",
       "      <td>2018-12-11</td>\n",
       "      <td>171.660004</td>\n",
       "      <td>171.789993</td>\n",
       "      <td>167.000000</td>\n",
       "      <td>168.630005</td>\n",
       "      <td>166.133850</td>\n",
       "      <td>47281700</td>\n",
       "    </tr>\n",
       "    <tr>\n",
       "      <th>4</th>\n",
       "      <td>2018-12-12</td>\n",
       "      <td>170.399994</td>\n",
       "      <td>171.919998</td>\n",
       "      <td>169.020004</td>\n",
       "      <td>169.100006</td>\n",
       "      <td>166.596878</td>\n",
       "      <td>35627700</td>\n",
       "    </tr>\n",
       "    <tr>\n",
       "      <th>5</th>\n",
       "      <td>2018-12-13</td>\n",
       "      <td>170.490005</td>\n",
       "      <td>172.570007</td>\n",
       "      <td>169.550003</td>\n",
       "      <td>170.949997</td>\n",
       "      <td>168.419479</td>\n",
       "      <td>31898600</td>\n",
       "    </tr>\n",
       "    <tr>\n",
       "      <th>6</th>\n",
       "      <td>2018-12-14</td>\n",
       "      <td>169.000000</td>\n",
       "      <td>169.080002</td>\n",
       "      <td>165.279999</td>\n",
       "      <td>165.479996</td>\n",
       "      <td>163.030457</td>\n",
       "      <td>40703700</td>\n",
       "    </tr>\n",
       "    <tr>\n",
       "      <th>7</th>\n",
       "      <td>2018-12-17</td>\n",
       "      <td>165.449997</td>\n",
       "      <td>168.350006</td>\n",
       "      <td>162.729996</td>\n",
       "      <td>163.940002</td>\n",
       "      <td>161.513260</td>\n",
       "      <td>44287900</td>\n",
       "    </tr>\n",
       "    <tr>\n",
       "      <th>8</th>\n",
       "      <td>2018-12-18</td>\n",
       "      <td>165.380005</td>\n",
       "      <td>167.529999</td>\n",
       "      <td>164.389999</td>\n",
       "      <td>166.070007</td>\n",
       "      <td>163.611740</td>\n",
       "      <td>33841500</td>\n",
       "    </tr>\n",
       "    <tr>\n",
       "      <th>9</th>\n",
       "      <td>2018-12-19</td>\n",
       "      <td>166.000000</td>\n",
       "      <td>167.449997</td>\n",
       "      <td>159.089996</td>\n",
       "      <td>160.889999</td>\n",
       "      <td>158.508408</td>\n",
       "      <td>49047300</td>\n",
       "    </tr>\n",
       "    <tr>\n",
       "      <th>10</th>\n",
       "      <td>2018-12-20</td>\n",
       "      <td>160.399994</td>\n",
       "      <td>162.110001</td>\n",
       "      <td>155.300003</td>\n",
       "      <td>156.830002</td>\n",
       "      <td>154.508499</td>\n",
       "      <td>64773000</td>\n",
       "    </tr>\n",
       "    <tr>\n",
       "      <th>11</th>\n",
       "      <td>2018-12-21</td>\n",
       "      <td>156.860001</td>\n",
       "      <td>158.160004</td>\n",
       "      <td>149.630005</td>\n",
       "      <td>150.729996</td>\n",
       "      <td>148.498795</td>\n",
       "      <td>95744600</td>\n",
       "    </tr>\n",
       "    <tr>\n",
       "      <th>12</th>\n",
       "      <td>2018-12-24</td>\n",
       "      <td>148.149994</td>\n",
       "      <td>151.550003</td>\n",
       "      <td>146.589996</td>\n",
       "      <td>146.830002</td>\n",
       "      <td>144.656540</td>\n",
       "      <td>37169200</td>\n",
       "    </tr>\n",
       "    <tr>\n",
       "      <th>13</th>\n",
       "      <td>2018-12-26</td>\n",
       "      <td>148.300003</td>\n",
       "      <td>157.229996</td>\n",
       "      <td>146.720001</td>\n",
       "      <td>157.169998</td>\n",
       "      <td>154.843475</td>\n",
       "      <td>58582500</td>\n",
       "    </tr>\n",
       "    <tr>\n",
       "      <th>14</th>\n",
       "      <td>2018-12-27</td>\n",
       "      <td>155.839996</td>\n",
       "      <td>156.770004</td>\n",
       "      <td>150.070007</td>\n",
       "      <td>156.149994</td>\n",
       "      <td>153.838562</td>\n",
       "      <td>53117100</td>\n",
       "    </tr>\n",
       "  </tbody>\n",
       "</table>\n",
       "</div>"
      ],
      "text/plain": [
       "          Date        Open        High         Low       Close   Adj Close  \\\n",
       "0   2018-12-06  171.759995  174.779999  170.419998  174.720001  172.133682   \n",
       "1   2018-12-07  173.490005  174.490005  168.300003  168.490005  165.995926   \n",
       "2   2018-12-10  165.000000  170.089996  163.330002  169.600006  167.089478   \n",
       "3   2018-12-11  171.660004  171.789993  167.000000  168.630005  166.133850   \n",
       "4   2018-12-12  170.399994  171.919998  169.020004  169.100006  166.596878   \n",
       "5   2018-12-13  170.490005  172.570007  169.550003  170.949997  168.419479   \n",
       "6   2018-12-14  169.000000  169.080002  165.279999  165.479996  163.030457   \n",
       "7   2018-12-17  165.449997  168.350006  162.729996  163.940002  161.513260   \n",
       "8   2018-12-18  165.380005  167.529999  164.389999  166.070007  163.611740   \n",
       "9   2018-12-19  166.000000  167.449997  159.089996  160.889999  158.508408   \n",
       "10  2018-12-20  160.399994  162.110001  155.300003  156.830002  154.508499   \n",
       "11  2018-12-21  156.860001  158.160004  149.630005  150.729996  148.498795   \n",
       "12  2018-12-24  148.149994  151.550003  146.589996  146.830002  144.656540   \n",
       "13  2018-12-26  148.300003  157.229996  146.720001  157.169998  154.843475   \n",
       "14  2018-12-27  155.839996  156.770004  150.070007  156.149994  153.838562   \n",
       "\n",
       "      Volume  \n",
       "0   43098400  \n",
       "1   42281600  \n",
       "2   62026000  \n",
       "3   47281700  \n",
       "4   35627700  \n",
       "5   31898600  \n",
       "6   40703700  \n",
       "7   44287900  \n",
       "8   33841500  \n",
       "9   49047300  \n",
       "10  64773000  \n",
       "11  95744600  \n",
       "12  37169200  \n",
       "13  58582500  \n",
       "14  53117100  "
      ]
     },
     "execution_count": 4,
     "metadata": {},
     "output_type": "execute_result"
    }
   ],
   "source": [
    "AAPL.head(15)"
   ]
  },
  {
   "cell_type": "markdown",
   "metadata": {},
   "source": [
    "Osservando il dataset vediamo che sono presenti <b>7</b> colonne: <i>'Date'</i>,<i>'Open'</i>, <i>'High'</i>, <i>'Low'</i>, <i>'Close'</i>, <i>'Adj Close'</i>, <i>'Volume'</i>. \n",
    "\n",
    "In questa guida seguiremo un approccio classico, derivante dalla teoria <b>MPT</b> (<i>“Modern Portfolio Theory\"</i>), quindi incentrato sull'analisi delle variazioni di prezzo. Per calcolare le variazioni di prezzo giornaliere utilizzeremo i prezzi di chiusura giornalieri contenuti nel nostro dataset.<br>\n",
    "I <b>prezzi di chiusura</b> corrispondono ai valori delle colonne <i>'Close'</i> e <i>'Adj Close'</i>.\n",
    "Dobbiamo però scegliere e selezionare solo una di esse, in questo caso scegliamo di calcolare le variazioni di prezzo con i prezzi di chiusura aggiustati, ovvero la serie di valori contenuti nella colonna 'Adj Close'.\n",
    "\n",
    "Prima di creare la nuova variabile a cui assegnare i prezzi di chiusura della colonna 'Adj Close', visualizziamo il grafico dei prezzi di chiusura dell'ultimo anno importando un'altra libreria fondamentale per la visualizzazione e rappresentazione dei dati: <i>'matplotlib'</i>:"
   ]
  },
  {
   "cell_type": "code",
   "execution_count": 31,
   "metadata": {},
   "outputs": [
    {
     "data": {
      "image/png": "[encoded data removed]",
      "text/plain": [
       "<Figure size 432x288 with 1 Axes>"
      ]
     },
     "metadata": {
      "needs_background": "light"
     },
     "output_type": "display_data"
    }
   ],
   "source": [
    "import matplotlib.pyplot as plt\n",
    "\n",
    "AAPL.plot(x='Date', y='Adj Close')\n",
    "plt.show()"
   ]
  },
  {
   "cell_type": "markdown",
   "metadata": {},
   "source": [
    "<i>'Matplotlib'</i> è una libreria di grafici 2D che ci permette di visualizzare i dati in modo semplice e veloce. Attraverso il modulo <i>.pyplot</i> invece importiamo alcune funzioni tipiche del più conosciuto MATLAB. \n",
    "<br>\n",
    "Con la riga di codice: <br><br><i>AAPL.plot(x='Date', y='Adj Close')</i><br> <br>stiamo dicendo alla nostra applicazione di creare un grafico partendo dal database AAPL, utilizzando la variabile <i>\"Date\"</i> per costruire l'asse delle ascisse (x) e la variabile <i>'Adj Close'</i> per l'asse delle ordinate (y). Successivamente utilizziamo la funzione <i>plt.show()</i>\n",
    "per visualizzare il grafico.\n"
   ]
  },
  {
   "cell_type": "markdown",
   "metadata": {},
   "source": [
    "Definiamo ora la nuova variabile contenente la serie storica dei prezzi di chiusura. Farlo è semplicissimo ed è sufficiente 1 riga di codice per estrarre la colonna 'Adj Close' e salvare i dati nella nuova variabile 'aapl_adj'.\n",
    "\n",
    "Utilizziamo la funzione <i>head()</i> per verificare che la nuova variabile 'aapl_adj' sia stata creata correttamente."
   ]
  },
  {
   "cell_type": "code",
   "execution_count": 6,
   "metadata": {},
   "outputs": [
    {
     "data": {
      "text/plain": [
       "0    172.133682\n",
       "1    165.995926\n",
       "2    167.089478\n",
       "3    166.133850\n",
       "4    166.596878\n",
       "Name: Adj Close, dtype: float64"
      ]
     },
     "execution_count": 6,
     "metadata": {},
     "output_type": "execute_result"
    }
   ],
   "source": [
    "aapl_adj = AAPL['Adj Close']\n",
    "aapl_adj.head()"
   ]
  },
  {
   "cell_type": "markdown",
   "metadata": {},
   "source": [
    "Nella prossima lezione utilizzeremo i prezzi di chiusura per calcolare le variazioni di prezzo giornaliere, il <b>rendimento atteso</b> e il <b>rischio</b> del titolo. Svolgeremo l'analisi sul singolo titolo Apple e successivamente, inserendo altri due titoli, calcoleremo rischio e rendimento del portafoglio."
   ]
  },
  {
   "cell_type": "markdown",
   "metadata": {},
   "source": [
    "## Lezione (2) Rendita e rischio di un portafoglio di titoli "
   ]
  },
  {
   "cell_type": "markdown",
   "metadata": {},
   "source": [
    "### Rendimento e rischio di un singolo titolo "
   ]
  },
  {
   "cell_type": "markdown",
   "metadata": {},
   "source": [
    "Nella lezione precedente abbiamo visto come manipolare i dati per estrarre i prezzi di chiusura. Avevamo salvato la serie storica di questi valori nella nuova variabile 'aapl_adj', da cui ora ricaveremo le variazioni di prezzo giornaliere.\n",
    "\n",
    "Per calcolare la variazione rispetto al giorno precedente utilizziamo la funzione <i>'pct_change()'</i>, che calcola appunto la variazione percentuale secondo la formula:\n",
    "<BR><BR>\n",
    "$ Variazione = [P(t+1) - P(t)] /  P(t)$\n",
    "<br>    \n",
    "dove: \n",
    "    \n",
    "P(t+1) -> Prezzo al tempo t+1 <br>\n",
    "P(t)   -> Prezzo al tempo t\n",
    "\n",
    "Applichiamo la funzione direttamente alla serie storica dei prezzi di chiusura utilizzando la dicitura <i>'aapl_adj.pct_change()'</i> e salviamo i valori delle variazioni in una nuova variabile che chiameremo <i>'daily_returns'</i>:"
   ]
  },
  {
   "cell_type": "code",
   "execution_count": 7,
   "metadata": {},
   "outputs": [
    {
     "name": "stdout",
     "output_type": "stream",
     "text": [
      "0           NaN\n",
      "1     -0.035657\n",
      "2      0.006588\n",
      "3     -0.005719\n",
      "4      0.002787\n",
      "5      0.010940\n",
      "6     -0.031998\n",
      "7     -0.009306\n",
      "8      0.012993\n",
      "9     -0.031192\n",
      "10    -0.025235\n",
      "11    -0.038896\n",
      "12    -0.025874\n",
      "13     0.070422\n",
      "14    -0.006490\n",
      "15     0.000512\n",
      "16     0.009665\n",
      "17     0.001141\n",
      "18    -0.099607\n",
      "19     0.042689\n",
      "20    -0.002226\n",
      "21     0.019063\n",
      "22     0.016982\n",
      "23     0.003196\n",
      "24    -0.009818\n",
      "25    -0.015037\n",
      "26     0.020467\n",
      "27     0.012217\n",
      "28     0.005938\n",
      "29     0.006159\n",
      "         ...   \n",
      "222    0.001645\n",
      "223    0.012316\n",
      "224    0.010017\n",
      "225   -0.023128\n",
      "226   -0.000123\n",
      "227    0.022610\n",
      "228    0.028381\n",
      "229    0.006567\n",
      "230   -0.001437\n",
      "231    0.000428\n",
      "232    0.011541\n",
      "233    0.002737\n",
      "234    0.007919\n",
      "235   -0.000915\n",
      "236    0.009582\n",
      "237   -0.006919\n",
      "238    0.011879\n",
      "239    0.005042\n",
      "240   -0.003033\n",
      "241   -0.011641\n",
      "242   -0.004483\n",
      "243   -0.000878\n",
      "244    0.017534\n",
      "245   -0.007809\n",
      "246    0.013432\n",
      "247   -0.002203\n",
      "248   -0.011562\n",
      "249   -0.017830\n",
      "250    0.008826\n",
      "251    0.014671\n",
      "Name: Adj Close, Length: 252, dtype: float64\n"
     ]
    }
   ],
   "source": [
    "daily_returns = aapl_adj.pct_change()\n",
    "print(daily_returns)"
   ]
  },
  {
   "cell_type": "markdown",
   "metadata": {},
   "source": [
    "Come possiamo vedere la prima riga dei ritorni giornalieri (ovvero la variabile <i>daily_returns</i>) non viene calcolata perché non è possibile calcolare la variazione rispetto a un prezzo precedente che non esiste (o almeno non esiste nel nostro dataset). Per rimediare a questo problema utilizziamo la funzione <i>'dropna()'</i> che rimuove tutti i valori nulli.\n",
    "\n",
    "Applichiamo la funzione <i>'dropna()'</i> alla variabile <i>'daily_returns'</i>, ridefinendo la stessa variabile ma senza il valore nullo:"
   ]
  },
  {
   "cell_type": "code",
   "execution_count": 8,
   "metadata": {},
   "outputs": [],
   "source": [
    "daily_returns = daily_returns.dropna()"
   ]
  },
  {
   "cell_type": "markdown",
   "metadata": {},
   "source": [
    "Per proseguire nell'analisi calcoliamo la media delle variazioni giornaliere. Per calcolare la media di una serie di valori è sufficiente utilizzare la funzione <i>'mean()'</i> applicata alla variabile di cui vogliamo fare la media:\n"
   ]
  },
  {
   "cell_type": "code",
   "execution_count": 9,
   "metadata": {},
   "outputs": [
    {
     "name": "stdout",
     "output_type": "stream",
     "text": [
      "0.001886823651833443\n"
     ]
    }
   ],
   "source": [
    "mean_daily_returns_aapl = daily_returns.mean()\n",
    "print(mean_daily_returns_aapl)"
   ]
  },
  {
   "cell_type": "markdown",
   "metadata": {},
   "source": [
    "Annualizziamo i ritorni moltiplicando la media dei ritorni giornalieri per il numero di giorni di trading in un anno (252 circa):"
   ]
  },
  {
   "cell_type": "code",
   "execution_count": 10,
   "metadata": {},
   "outputs": [
    {
     "name": "stdout",
     "output_type": "stream",
     "text": [
      "0.47547956026202765\n"
     ]
    }
   ],
   "source": [
    "annualized_return = mean_daily_returns_aapl * 252\n",
    "print(annualized_return)"
   ]
  },
  {
   "cell_type": "markdown",
   "metadata": {},
   "source": [
    "<b>Rendimento annualizzato AAPL</b>: 0.475\n",
    "\n",
    "Calcoliamo il rischio come la <b>deviazione standard</b> delle variazioni giornaliere.\n",
    "\n",
    "Per calcolare il rischio utilizzamo la funzione <i>std()</i> e moltiplichiamo il valore ottenuto per la radice di 252, così da ottenere una misura del rischio annualizzata:"
   ]
  },
  {
   "cell_type": "code",
   "execution_count": 11,
   "metadata": {},
   "outputs": [
    {
     "name": "stdout",
     "output_type": "stream",
     "text": [
      "0.2810262270353267\n"
     ]
    }
   ],
   "source": [
    "aapl_risk = np.std(daily_returns)\n",
    "aapl_risk = aapl_risk * np.sqrt(252)\n",
    "print(aapl_risk)"
   ]
  },
  {
   "cell_type": "markdown",
   "metadata": {},
   "source": [
    "<b>Deviazione standard (Rischio) AAPL</b>: 0.281"
   ]
  },
  {
   "cell_type": "markdown",
   "metadata": {},
   "source": [
    "### Rendimento e rischio di un portafoglio di titoli "
   ]
  },
  {
   "cell_type": "markdown",
   "metadata": {},
   "source": [
    "Nel paragrafo precedente abbiamo calcolato <b>rendimento atteso</b> e <b>rischio</b> del titolo Apple e potremmo applicare le stesse formule a qualsiasi altro titolo. Ma, come sappiamo bene, i portafogli d'investimento sono composti da almeno <i>n</i> titoli per sfruttare gli effetti della <b> diversificazione</b>.\n",
    "<br>\n",
    "<br>\n",
    "In questo secondo paragrafo analizzeremo un portafoglio composto da 3 titoli:\n",
    "- Apple\n",
    "- Amazon\n",
    "- Facebook\n",
    "<br>\n",
    "\n",
    "Assegneremo a ogni titolo una quota del nostro portafoglio, chiameremo queste quote <i>'weigths'</i>:\n",
    "- AAPL ->  30% (0,3)\n",
    "- AMZN ->  40% (0,4)\n",
    "- FB ->  30% (0,3)\n",
    "\n",
    "<b>Nota:</b> la somma delle quote (<i>weigths</i>) dei titoli è uguale a 1. Il valore 1 indica che stiamo investendo il 100% del nostro capitale - allocato, secondo le quote descritte sopra, fra tre differenti titoli -. "
   ]
  },
  {
   "cell_type": "markdown",
   "metadata": {},
   "source": [
    "Iniziamo importando i dati relativi ai due titoli <b>AMZN</b> e <b>FB</b> ed estraendo le rispettive colonne dei prezzi di chiusura:"
   ]
  },
  {
   "cell_type": "code",
   "execution_count": 12,
   "metadata": {},
   "outputs": [],
   "source": [
    "AMZN = pd.read_csv('D:/Anaconda/AMZN.csv')\n",
    "FB = pd.read_csv('D:/Anaconda/FB.csv')\n",
    "\n",
    "AMZN = AMZN['Adj Close']\n",
    "FB = FB['Adj Close']"
   ]
  },
  {
   "cell_type": "markdown",
   "metadata": {},
   "source": [
    "Verifichiamo di avere importato correttamente i dati:"
   ]
  },
  {
   "cell_type": "code",
   "execution_count": 13,
   "metadata": {},
   "outputs": [
    {
     "data": {
      "text/plain": [
       "0    139.630005\n",
       "1    137.419998\n",
       "2    141.850006\n",
       "3    142.080002\n",
       "4    144.500000\n",
       "Name: Adj Close, dtype: float64"
      ]
     },
     "execution_count": 13,
     "metadata": {},
     "output_type": "execute_result"
    }
   ],
   "source": [
    "FB.head()"
   ]
  },
  {
   "cell_type": "markdown",
   "metadata": {},
   "source": [
    "Uniamo in un unica tabella i prezzi di chiusura dei 3 titoli. Per farlo è sufficiente richiamare dalla libreria pandas (as pd) la funzione <i>concat()</i>. Salviamo la tabella in una nuova variabile che chiamaremo <b>df</b> (dataframe). All'interno della funzione <i>concat()</i> inseriamo i vettori che vogliamo affiancare/concatenare utilizzando i nomi delle variabili con cui sono stati salvati: <b>'aapl_adj', 'AMZN', 'FB'</b>. \n",
    "<br><br>\n",
    "Dobbiamo inoltre specificare lungo quale asse concatenare i dati. In questo caso vogliamo affiancare i prezzi di chiusura e ottenere così un dataframe da 251 righe e 3 colonne, corrispondenti alle 3 attività. Specifichiamo l'asse delle colonne specificando il parametro <b>'axis = 1'</b>.\n",
    "\n",
    "Qualora non avessimo specificato l'asse la funzione <i>concat()</i> avrebbe unito i vettori in senso verticale, ovvero avrebbe creato un dataframe da 753 righe e 1 colonna. Questo perché il valore di default per il parametro <b>axis</b> è uguale a <b>0</b>. "
   ]
  },
  {
   "cell_type": "code",
   "execution_count": 14,
   "metadata": {},
   "outputs": [
    {
     "data": {
      "text/html": [
       "<div>\n",
       "<style scoped>\n",
       "    .dataframe tbody tr th:only-of-type {\n",
       "        vertical-align: middle;\n",
       "    }\n",
       "\n",
       "    .dataframe tbody tr th {\n",
       "        vertical-align: top;\n",
       "    }\n",
       "\n",
       "    .dataframe thead th {\n",
       "        text-align: right;\n",
       "    }\n",
       "</style>\n",
       "<table border=\"1\" class=\"dataframe\">\n",
       "  <thead>\n",
       "    <tr style=\"text-align: right;\">\n",
       "      <th></th>\n",
       "      <th>Adj Close</th>\n",
       "      <th>Adj Close</th>\n",
       "      <th>Adj Close</th>\n",
       "    </tr>\n",
       "  </thead>\n",
       "  <tbody>\n",
       "    <tr>\n",
       "      <th>0</th>\n",
       "      <td>172.133682</td>\n",
       "      <td>1699.189941</td>\n",
       "      <td>139.630005</td>\n",
       "    </tr>\n",
       "    <tr>\n",
       "      <th>1</th>\n",
       "      <td>165.995926</td>\n",
       "      <td>1629.130005</td>\n",
       "      <td>137.419998</td>\n",
       "    </tr>\n",
       "    <tr>\n",
       "      <th>2</th>\n",
       "      <td>167.089478</td>\n",
       "      <td>1641.030029</td>\n",
       "      <td>141.850006</td>\n",
       "    </tr>\n",
       "    <tr>\n",
       "      <th>3</th>\n",
       "      <td>166.133850</td>\n",
       "      <td>1643.239990</td>\n",
       "      <td>142.080002</td>\n",
       "    </tr>\n",
       "    <tr>\n",
       "      <th>4</th>\n",
       "      <td>166.596878</td>\n",
       "      <td>1663.540039</td>\n",
       "      <td>144.500000</td>\n",
       "    </tr>\n",
       "  </tbody>\n",
       "</table>\n",
       "</div>"
      ],
      "text/plain": [
       "    Adj Close    Adj Close   Adj Close\n",
       "0  172.133682  1699.189941  139.630005\n",
       "1  165.995926  1629.130005  137.419998\n",
       "2  167.089478  1641.030029  141.850006\n",
       "3  166.133850  1643.239990  142.080002\n",
       "4  166.596878  1663.540039  144.500000"
      ]
     },
     "execution_count": 14,
     "metadata": {},
     "output_type": "execute_result"
    }
   ],
   "source": [
    "df = pd.concat([aapl_adj,\n",
    "                AMZN,\n",
    "                FB\n",
    "                ], axis=1)\n",
    "df.head()"
   ]
  },
  {
   "cell_type": "markdown",
   "metadata": {},
   "source": [
    "Una volta concatenati i vettori dobbiamo cambiare il nome delle colonne, per farlo è sufficiente applicare il comando <i>'.columns'</i> al dataframe <i>'df'</i>."
   ]
  },
  {
   "cell_type": "code",
   "execution_count": 15,
   "metadata": {},
   "outputs": [
    {
     "data": {
      "text/html": [
       "<div>\n",
       "<style scoped>\n",
       "    .dataframe tbody tr th:only-of-type {\n",
       "        vertical-align: middle;\n",
       "    }\n",
       "\n",
       "    .dataframe tbody tr th {\n",
       "        vertical-align: top;\n",
       "    }\n",
       "\n",
       "    .dataframe thead th {\n",
       "        text-align: right;\n",
       "    }\n",
       "</style>\n",
       "<table border=\"1\" class=\"dataframe\">\n",
       "  <thead>\n",
       "    <tr style=\"text-align: right;\">\n",
       "      <th></th>\n",
       "      <th>AAPL</th>\n",
       "      <th>AMZN</th>\n",
       "      <th>FB</th>\n",
       "    </tr>\n",
       "  </thead>\n",
       "  <tbody>\n",
       "    <tr>\n",
       "      <th>0</th>\n",
       "      <td>172.133682</td>\n",
       "      <td>1699.189941</td>\n",
       "      <td>139.630005</td>\n",
       "    </tr>\n",
       "    <tr>\n",
       "      <th>1</th>\n",
       "      <td>165.995926</td>\n",
       "      <td>1629.130005</td>\n",
       "      <td>137.419998</td>\n",
       "    </tr>\n",
       "    <tr>\n",
       "      <th>2</th>\n",
       "      <td>167.089478</td>\n",
       "      <td>1641.030029</td>\n",
       "      <td>141.850006</td>\n",
       "    </tr>\n",
       "    <tr>\n",
       "      <th>3</th>\n",
       "      <td>166.133850</td>\n",
       "      <td>1643.239990</td>\n",
       "      <td>142.080002</td>\n",
       "    </tr>\n",
       "    <tr>\n",
       "      <th>4</th>\n",
       "      <td>166.596878</td>\n",
       "      <td>1663.540039</td>\n",
       "      <td>144.500000</td>\n",
       "    </tr>\n",
       "  </tbody>\n",
       "</table>\n",
       "</div>"
      ],
      "text/plain": [
       "         AAPL         AMZN          FB\n",
       "0  172.133682  1699.189941  139.630005\n",
       "1  165.995926  1629.130005  137.419998\n",
       "2  167.089478  1641.030029  141.850006\n",
       "3  166.133850  1643.239990  142.080002\n",
       "4  166.596878  1663.540039  144.500000"
      ]
     },
     "execution_count": 15,
     "metadata": {},
     "output_type": "execute_result"
    }
   ],
   "source": [
    "df.columns = ['AAPL', 'AMZN', 'FB',]\n",
    "df.head()"
   ]
  },
  {
   "cell_type": "markdown",
   "metadata": {},
   "source": [
    "Seguendo la stessa logica applicata precedentemente al titolo Apple calcoliamo i ritorni giornalieri dei 3 titoli presenti nel nostro dataframe, e salviamo questa nuova variabile con il nome di returns()."
   ]
  },
  {
   "cell_type": "code",
   "execution_count": 16,
   "metadata": {},
   "outputs": [
    {
     "data": {
      "text/html": [
       "<div>\n",
       "<style scoped>\n",
       "    .dataframe tbody tr th:only-of-type {\n",
       "        vertical-align: middle;\n",
       "    }\n",
       "\n",
       "    .dataframe tbody tr th {\n",
       "        vertical-align: top;\n",
       "    }\n",
       "\n",
       "    .dataframe thead th {\n",
       "        text-align: right;\n",
       "    }\n",
       "</style>\n",
       "<table border=\"1\" class=\"dataframe\">\n",
       "  <thead>\n",
       "    <tr style=\"text-align: right;\">\n",
       "      <th></th>\n",
       "      <th>AAPL</th>\n",
       "      <th>AMZN</th>\n",
       "      <th>FB</th>\n",
       "    </tr>\n",
       "  </thead>\n",
       "  <tbody>\n",
       "    <tr>\n",
       "      <th>1</th>\n",
       "      <td>-0.035657</td>\n",
       "      <td>-0.041231</td>\n",
       "      <td>-0.015828</td>\n",
       "    </tr>\n",
       "    <tr>\n",
       "      <th>2</th>\n",
       "      <td>0.006588</td>\n",
       "      <td>0.007305</td>\n",
       "      <td>0.032237</td>\n",
       "    </tr>\n",
       "    <tr>\n",
       "      <th>3</th>\n",
       "      <td>-0.005719</td>\n",
       "      <td>0.001347</td>\n",
       "      <td>0.001621</td>\n",
       "    </tr>\n",
       "    <tr>\n",
       "      <th>4</th>\n",
       "      <td>0.002787</td>\n",
       "      <td>0.012354</td>\n",
       "      <td>0.017033</td>\n",
       "    </tr>\n",
       "    <tr>\n",
       "      <th>5</th>\n",
       "      <td>0.010940</td>\n",
       "      <td>-0.003102</td>\n",
       "      <td>0.003529</td>\n",
       "    </tr>\n",
       "  </tbody>\n",
       "</table>\n",
       "</div>"
      ],
      "text/plain": [
       "       AAPL      AMZN        FB\n",
       "1 -0.035657 -0.041231 -0.015828\n",
       "2  0.006588  0.007305  0.032237\n",
       "3 -0.005719  0.001347  0.001621\n",
       "4  0.002787  0.012354  0.017033\n",
       "5  0.010940 -0.003102  0.003529"
      ]
     },
     "execution_count": 16,
     "metadata": {},
     "output_type": "execute_result"
    }
   ],
   "source": [
    "returns = df.pct_change()\n",
    "returns = returns.dropna()\n",
    "\n",
    "returns.head()"
   ]
  },
  {
   "cell_type": "markdown",
   "metadata": {},
   "source": [
    "Calcoliamo la media dei ritorni giornalieri e la matrice delle covarianze, fondamentale per calcolare il rischio del portafoglio considerando le correlazioni fra i titoli in analisi:"
   ]
  },
  {
   "cell_type": "code",
   "execution_count": 17,
   "metadata": {},
   "outputs": [],
   "source": [
    "mean_daily_returns = returns.mean()\n",
    "cov_matrix = returns.cov()"
   ]
  },
  {
   "cell_type": "markdown",
   "metadata": {},
   "source": [
    "La <b>matrice delle covarianze</b> è una matrice simmetrica rispetto alla diagonale principale, ovvero la diagonale che va dall'angolo sinistro in alto all'angolo destro in basso. Misura la correlazione"
   ]
  },
  {
   "cell_type": "code",
   "execution_count": 18,
   "metadata": {},
   "outputs": [
    {
     "name": "stdout",
     "output_type": "stream",
     "text": [
      "          AAPL      AMZN        FB\n",
      "AAPL  0.000315  0.000197  0.000186\n",
      "AMZN  0.000197  0.000284  0.000223\n",
      "FB    0.000186  0.000223  0.000377\n"
     ]
    }
   ],
   "source": [
    "print(cov_matrix)"
   ]
  },
  {
   "cell_type": "markdown",
   "metadata": {},
   "source": [
    "Creiamo la variabile _'weights'_ e definiamo le quote dei titoli nel nostro portafoglio. E' importante ricordare che la somma delle quote deve necessariamente essere uguale a 1.\n",
    "\n",
    "Ora utilizzeremo varie funzioni matematiche per calcolare il <b>ritorno</b> e la <b>deviazione standard</b> dell'intero portafoglio.\n",
    "- np.sum()\n",
    "- np.sqrt()\n",
    "- np.dot()\n",
    "\n",
    "<b>Sum</b>, com'è facile intuire, è una funzione di somma che utilizzeremo per sommare i risultati delle moltiplicazioni fra i ritorni medi giornalieri e le _weights_.\n",
    "\n",
    "<b>Sqrt</b> è la radice quadrata.\n",
    "\n",
    "<b>Dot</b> è un metodo della libraria numpy utilizzato per le moltiplicazioni tra matrici, uni o multi dimensionali. In questo caso stiamo moltiplicando la matrice delle covarianze <i>cov_matrix</i> (array 3x3 quindi multidimensionale) per le altezze _weights_, un vettore 3x1. Questa combinazione di un array multi-dimensionale e uno uni-dimensionale attiva la funzione _dot()_ per calcolare la somma dei prodotti dell'ultimo asse di <b>a</b> (<i>cov_matrix</i>) per il vettore <b>b</b> (_weights_)\n"
   ]
  },
  {
   "cell_type": "code",
   "execution_count": 19,
   "metadata": {},
   "outputs": [],
   "source": [
    "weights = np.array((0.3,0.4,0.3))\n",
    "\n",
    "portfolio_return = np.sum(mean_daily_returns * weights) * 252\n",
    "portfolio_std_dev = np.sqrt(np.dot(weights,np.dot(cov_matrix, weights))) * np.sqrt(252)"
   ]
  },
  {
   "cell_type": "code",
   "execution_count": 20,
   "metadata": {},
   "outputs": [
    {
     "name": "stdout",
     "output_type": "stream",
     "text": [
      "0.2879542412747791\n",
      "0.246978221431443\n"
     ]
    }
   ],
   "source": [
    "print(portfolio_return)\n",
    "print(portfolio_std_dev)"
   ]
  },
  {
   "cell_type": "markdown",
   "metadata": {},
   "source": [
    "Bene, il nostro portafoglio allocato secondo le quote <i>weights</i> nei tre titoli Apple, Facebook e Amazon ha un ritorno annualizzato di 0,2879 (28,79%) e una deviazione standard di 0,2469.\n",
    "\n",
    "Nella prossima lezione vedremo come assegnare alle quote (weights) dei valori casuali, calcolando per ogni possibile allocazione dei titoli la deviazione standard e il ritorno atteso del portafoglio, per poi infine costruire la <b>frontiera efficiente dei portafogli</b>."
   ]
  },
  {
   "cell_type": "markdown",
   "metadata": {},
   "source": [
    "### (3)  Ottimizzazione di portafoglio"
   ]
  },
  {
   "cell_type": "markdown",
   "metadata": {},
   "source": [
    "Prima di iniziare definiamo due nuove variabili: <i>stocks</i> e <i>num_portfolios</i>.\n",
    "\n",
    "La variabile stocks ci serve principalmente per creare una lista dei titoli che intendiamo analizzare. Mentre num_portfolios sarà il numero delle possibili combinazioni per le quote dei titoli. In questo caso, avendo definito num_portfolios uguale a 10.000, creeremo 10.000 differenti possibili combinazioni fra i nostri 3 titoli. "
   ]
  },
  {
   "cell_type": "code",
   "execution_count": 21,
   "metadata": {},
   "outputs": [],
   "source": [
    "stocks = ['AAPL','AMZN','FB']\n",
    "\n",
    "num_portfolios = 10000"
   ]
  },
  {
   "cell_type": "markdown",
   "metadata": {},
   "source": [
    "Ora creiamo un array, che chiameremo <i>results</i>, di dimensione (3+len(stocks);num_portfolios) = (6;10.000), ovvero un array da 6 righe e 10mila colonne. La funzione <i>len</i> è molto utilizzata nella programmazione in Python e ci permette di contare gli elementi all'interno di una certa variabile. In questo caso vengono conteggiati gli elementi all'interno della lista <i>stocks</i>, che non sono altro che i nostri 3 titoli.   \n",
    "\n",
    "All'interno di questa matrice di zeri inseriremo le 10mila combinazioni di quote dei titoli e i relativi risultati (deviazione standard, rendimento e Sharpe ratio) del portafoglio. In sostanza creeremo 10.000 portafogli, dove per ogni portafoglio avremo 6 valori: 3 rappresentativi delle quote dei titoli e 3 relativi ai risultati attesi del portafoglio, ovvero deviazione standard (rischio), rendimento atteso e Sharpe ratio.\n",
    "\n",
    "L'indice di Sharpe, così chiamato in onore del premio Nobel per l'economia 1990 William Sharpe, è una misura della performance del portafoglio. Esso esprime il rendimento di un portafoglio titoli, al netto del rendimento non rischioso (riskfree rate), normalmente inteso come il tasso d'interesse di prestiti statali AAA a breve scadenza, in rapporto al rischio (deviazione standard) del portafoglio stesso.\n",
    "\n",
    "Se <b>$r_{P}$</b> è il rendimento del portafoglio, <b>$σ_{P}$</b> la sua deviazione standard e <b>$r_{f}$</b> denota il tasso d'interesse privo di rischio, l'indice di Sharpe del portafoglio è pari a:\n",
    "\n",
    "$ Sharpe  =  [ r(P) - r(f) ]  /  σ(P) $"
   ]
  },
  {
   "cell_type": "code",
   "execution_count": 22,
   "metadata": {},
   "outputs": [],
   "source": [
    "results = np.zeros((3+len(stocks),num_portfolios))"
   ]
  },
  {
   "cell_type": "code",
   "execution_count": 23,
   "metadata": {},
   "outputs": [
    {
     "name": "stdout",
     "output_type": "stream",
     "text": [
      "[[0. 0. 0. ... 0. 0. 0.]\n",
      " [0. 0. 0. ... 0. 0. 0.]\n",
      " [0. 0. 0. ... 0. 0. 0.]\n",
      " [0. 0. 0. ... 0. 0. 0.]\n",
      " [0. 0. 0. ... 0. 0. 0.]\n",
      " [0. 0. 0. ... 0. 0. 0.]]\n"
     ]
    }
   ],
   "source": [
    "print(results)"
   ]
  },
  {
   "cell_type": "markdown",
   "metadata": {},
   "source": [
    "Definiamo il tasso risk free come <i>rf</i>:"
   ]
  },
  {
   "cell_type": "code",
   "execution_count": 24,
   "metadata": {},
   "outputs": [],
   "source": [
    "rf = 0.001"
   ]
  },
  {
   "cell_type": "markdown",
   "metadata": {},
   "source": [
    "Questa è probabilmente la parte più interessante del progetto, utilizzeremo un ciclo <i>for</i> per creare una sorta di simulazione di Montecarlo, attraverso la quale il nostro algoritmo creerà 10mila differenti combinazioni di portafoglio, calcolando per ogni combinazione rendimento, dev. standard e Sharpe.\n",
    "\n",
    "Analizziamo passo per passo il codice.\n",
    "\n",
    "Inizializziamo la simulazione con <i>for i in range(num_portfolios)</i>, ovvero eseguiamo l'algoritmo per <b>i</b> nell'itervallo 1-10.000, (<i>num_portfolios</i>= 10.000).\n",
    "\n",
    "Per ogni <b>i</b> compreso fra 1 e 10mila, creiamo delle <i>weights</i> (quote) random e le ribilanciamo perché la somma degli elementi all'interno della variabile sia uguale a 1, una condizione necessaria nel modello media-varianza e nel CAPM.\n",
    "\n",
    "Utilizzando le <i>weights</i> generate calcoliamo il rendimento di portafoglio (<i>portfolio_return</i>) e la deviazione standard (<i>portfolio_std_dev</i>).\n",
    "\n",
    "Dopodiché dobbiamo sovrascivere i risultati ottenuti nell'array definito precedentemente come <i>results</i>. Con la dicitura \"results[0,i] = portfolio_return\" stiamo dicendo al nostro programma di inserire il rendimento di portafoglio appena calcolato nella riga 0 colonna i, e così via per la deviazione standard (riga 1 colonna i) e lo Sharpe ratio (riga 2 colonna i). \n",
    "\n",
    "Utilizziamo infine un secondo ciclo for per salvare le quote relative al portafoglio di cui abbiamo calcolato rendimento e dev. standard. In questo modo ogni colonna corrisponderà a un portafoglio con differenti quote e relativi valori di rendimento e rischio."
   ]
  },
  {
   "cell_type": "code",
   "execution_count": 25,
   "metadata": {},
   "outputs": [],
   "source": [
    "for i in range(num_portfolios):\n",
    "    #select random weights for portfolio holdings\n",
    "    weights = np.random.random(3)\n",
    "    #rebalance weights to sum to 1\n",
    "    weights /= np.sum(weights)\n",
    "    \n",
    "    #calculate portfolio return and volatility\n",
    "    portfolio_return = np.sum(mean_daily_returns * weights) * 252\n",
    "    portfolio_std_dev = np.sqrt(np.dot(weights,np.dot(cov_matrix, weights))) * np.sqrt(252)\n",
    "    \n",
    "    #store results in results array\n",
    "    results[0,i] = portfolio_return\n",
    "    results[1,i] = portfolio_std_dev\n",
    "    #store Sharpe Ratio (return - riskfree / volatility)\n",
    "    results[2,i] = (results[0,i] - rf) / results[1,i]\n",
    "    \n",
    "    for j in range(len(weights)):\n",
    "        results[j+3,i] = weights[j]"
   ]
  },
  {
   "cell_type": "markdown",
   "metadata": {},
   "source": [
    "Una volta eseguito il codice possiamo riorganizziamo i risultati in un DataFrame. Utilizziamo la funzione <i>.T</i> per ottenere la matrice trasposta della matrice <i>results</i> e ridefiniamo i nomi delle colonne:"
   ]
  },
  {
   "cell_type": "code",
   "execution_count": 26,
   "metadata": {},
   "outputs": [],
   "source": [
    "results_frame = pd.DataFrame(results.T,columns=['ret','stdev','sharpe',stocks[0],stocks[1],stocks[2]])"
   ]
  },
  {
   "cell_type": "markdown",
   "metadata": {},
   "source": [
    "Verifichiamo di aver creato correttamente il dataframe osservando i primi 5 risultati del DataFrame:"
   ]
  },
  {
   "cell_type": "code",
   "execution_count": 27,
   "metadata": {},
   "outputs": [
    {
     "data": {
      "text/html": [
       "<div>\n",
       "<style scoped>\n",
       "    .dataframe tbody tr th:only-of-type {\n",
       "        vertical-align: middle;\n",
       "    }\n",
       "\n",
       "    .dataframe tbody tr th {\n",
       "        vertical-align: top;\n",
       "    }\n",
       "\n",
       "    .dataframe thead th {\n",
       "        text-align: right;\n",
       "    }\n",
       "</style>\n",
       "<table border=\"1\" class=\"dataframe\">\n",
       "  <thead>\n",
       "    <tr style=\"text-align: right;\">\n",
       "      <th></th>\n",
       "      <th>ret</th>\n",
       "      <th>stdev</th>\n",
       "      <th>sharpe</th>\n",
       "      <th>AAPL</th>\n",
       "      <th>AMZN</th>\n",
       "      <th>FB</th>\n",
       "    </tr>\n",
       "  </thead>\n",
       "  <tbody>\n",
       "    <tr>\n",
       "      <th>0</th>\n",
       "      <td>0.289735</td>\n",
       "      <td>0.259051</td>\n",
       "      <td>1.114588</td>\n",
       "      <td>0.124942</td>\n",
       "      <td>0.359039</td>\n",
       "      <td>0.516019</td>\n",
       "    </tr>\n",
       "    <tr>\n",
       "      <th>1</th>\n",
       "      <td>0.264600</td>\n",
       "      <td>0.254110</td>\n",
       "      <td>1.037345</td>\n",
       "      <td>0.142688</td>\n",
       "      <td>0.435472</td>\n",
       "      <td>0.421840</td>\n",
       "    </tr>\n",
       "    <tr>\n",
       "      <th>2</th>\n",
       "      <td>0.429295</td>\n",
       "      <td>0.255912</td>\n",
       "      <td>1.673604</td>\n",
       "      <td>0.524665</td>\n",
       "      <td>0.036556</td>\n",
       "      <td>0.438779</td>\n",
       "    </tr>\n",
       "    <tr>\n",
       "      <th>3</th>\n",
       "      <td>0.269568</td>\n",
       "      <td>0.246515</td>\n",
       "      <td>1.089459</td>\n",
       "      <td>0.418919</td>\n",
       "      <td>0.477578</td>\n",
       "      <td>0.103504</td>\n",
       "    </tr>\n",
       "    <tr>\n",
       "      <th>4</th>\n",
       "      <td>0.266527</td>\n",
       "      <td>0.247361</td>\n",
       "      <td>1.073439</td>\n",
       "      <td>0.439942</td>\n",
       "      <td>0.490688</td>\n",
       "      <td>0.069371</td>\n",
       "    </tr>\n",
       "  </tbody>\n",
       "</table>\n",
       "</div>"
      ],
      "text/plain": [
       "        ret     stdev    sharpe      AAPL      AMZN        FB\n",
       "0  0.289735  0.259051  1.114588  0.124942  0.359039  0.516019\n",
       "1  0.264600  0.254110  1.037345  0.142688  0.435472  0.421840\n",
       "2  0.429295  0.255912  1.673604  0.524665  0.036556  0.438779\n",
       "3  0.269568  0.246515  1.089459  0.418919  0.477578  0.103504\n",
       "4  0.266527  0.247361  1.073439  0.439942  0.490688  0.069371"
      ]
     },
     "execution_count": 27,
     "metadata": {},
     "output_type": "execute_result"
    }
   ],
   "source": [
    "results_frame.head()"
   ]
  },
  {
   "cell_type": "markdown",
   "metadata": {},
   "source": [
    "Come possiamo vedere ogni riga rappresenta un possibile portafoglio. \n",
    "\n",
    "Prendendo per esempio la riga 0:\n",
    "- rendimento = 0,294\n",
    "- deviazione standard = 0,246\n",
    "- Sharpe = 1,187. \n",
    "\n",
    "\n",
    "Allocando il capitale secondo le quote:\n",
    "- 0,318 -> Apple\n",
    "- 0,386 -> Amazon\n",
    "- 0,295 -> Facebook\n",
    "\n",
    "Costruiamo ora un grafico a dispersione (scatter plot) dove ogni punto rappresenta un portafoglio. L'asse X rappresenta la <b>deviazione standard</b>, l'asse Y il <b>rendimento</b> e coloriamo ogni punto in base al rispettivo valore dell'indice di Sharpe, che ricordiamo è ottenuto dal rapporto fra rendimento e dev. standard al netto del tasso risk free."
   ]
  },
  {
   "cell_type": "code",
   "execution_count": 28,
   "metadata": {},
   "outputs": [
    {
     "data": {
      "text/plain": [
       "<matplotlib.colorbar.Colorbar at 0x282817b6a58>"
      ]
     },
     "execution_count": 28,
     "metadata": {},
     "output_type": "execute_result"
    },
    {
     "data": {
      "image/png": "[encoded data removed]",
      "text/plain": [
       "<Figure size 432x288 with 2 Axes>"
      ]
     },
     "metadata": {
      "needs_background": "light"
     },
     "output_type": "display_data"
    }
   ],
   "source": [
    "plt.xlabel('Standard Deviation')\n",
    "plt.ylabel('Returns')\n",
    "plt.scatter(results_frame.stdev, results_frame.ret, c=results_frame.sharpe, cmap='RdYlBu')\n",
    "plt.colorbar()"
   ]
  },
  {
   "cell_type": "markdown",
   "metadata": {},
   "source": [
    "Il prossimo passo è selezionare il portafoglio che meglio si adatti alle nostre esigenze. Per farlo utilizziamo la funzione <i>.loc()</i> che ci permette di selezionare una determinata riga da un dataframe in base alle nostre esigenze e salvare i valori corrispondenti in un'altra variabile. In questo caso estrarremo i portafogli con:\n",
    "- maggiore indice di Sharpe\n",
    "- maggiore rendimento\n",
    "- minore deviazione standard "
   ]
  },
  {
   "cell_type": "code",
   "execution_count": 29,
   "metadata": {},
   "outputs": [],
   "source": [
    "max_sharpe_portfolio = results_frame.loc[results_frame['sharpe'].idxmax()]\n",
    "\n",
    "max_return_portfolio = results_frame.loc[results_frame['ret'].idxmax()]\n",
    "\n",
    "min_std_portfolio = results_frame.loc[results_frame['stdev'].idxmin()]"
   ]
  },
  {
   "cell_type": "markdown",
   "metadata": {},
   "source": [
    "Visualizziamo i risultati:"
   ]
  },
  {
   "cell_type": "code",
   "execution_count": 30,
   "metadata": {},
   "outputs": [
    {
     "name": "stdout",
     "output_type": "stream",
     "text": [
      "ret       0.472948\n",
      "stdev     0.280868\n",
      "sharpe    1.680320\n",
      "AAPL      0.993193\n",
      "AMZN      0.005941\n",
      "FB        0.000865\n",
      "Name: 2305, dtype: float64\n",
      "ret       0.454732\n",
      "stdev     0.259280\n",
      "sharpe    1.749968\n",
      "AAPL      0.709766\n",
      "AMZN      0.000735\n",
      "FB        0.289499\n",
      "Name: 618, dtype: float64\n",
      "ret       0.285987\n",
      "stdev     0.245582\n",
      "sharpe    1.160455\n",
      "AAPL      0.380117\n",
      "AMZN      0.422083\n",
      "FB        0.197800\n",
      "Name: 3944, dtype: float64\n"
     ]
    }
   ],
   "source": [
    "print(max_return_portfolio)\n",
    "print(max_sharpe_portfolio)\n",
    "print(min_std_portfolio)"
   ]
  },
  {
   "cell_type": "markdown",
   "metadata": {},
   "source": [
    "### (4) CAPM e Beta dei titoli"
   ]
  },
  {
   "cell_type": "markdown",
   "metadata": {},
   "source": [
    "Una delle teorie più conosciute della finanza classica è sicuramente quella del CAPM ..."
   ]
  },
  {
   "cell_type": "code",
   "execution_count": 33,
   "metadata": {},
   "outputs": [
    {
     "data": {
      "text/plain": [
       "0    2976.739990\n",
       "1    2940.250000\n",
       "2    2887.610107\n",
       "3    2910.629883\n",
       "4    2952.010010\n",
       "Name: Adj Close, dtype: float64"
      ]
     },
     "execution_count": 33,
     "metadata": {},
     "output_type": "execute_result"
    }
   ],
   "source": [
    "SP = pd.read_csv('D:\\Anaconda\\S&P500.csv')\n",
    "SP = SP['Adj Close']\n",
    "SP.head()"
   ]
  },
  {
   "cell_type": "code",
   "execution_count": 34,
   "metadata": {},
   "outputs": [
    {
     "data": {
      "text/html": [
       "<div>\n",
       "<style scoped>\n",
       "    .dataframe tbody tr th:only-of-type {\n",
       "        vertical-align: middle;\n",
       "    }\n",
       "\n",
       "    .dataframe tbody tr th {\n",
       "        vertical-align: top;\n",
       "    }\n",
       "\n",
       "    .dataframe thead th {\n",
       "        text-align: right;\n",
       "    }\n",
       "</style>\n",
       "<table border=\"1\" class=\"dataframe\">\n",
       "  <thead>\n",
       "    <tr style=\"text-align: right;\">\n",
       "      <th></th>\n",
       "      <th>AAPL</th>\n",
       "      <th>AMZN</th>\n",
       "      <th>FB</th>\n",
       "      <th>SP</th>\n",
       "    </tr>\n",
       "  </thead>\n",
       "  <tbody>\n",
       "    <tr>\n",
       "      <th>0</th>\n",
       "      <td>172.133682</td>\n",
       "      <td>1699.189941</td>\n",
       "      <td>139.630005</td>\n",
       "      <td>2976.739990</td>\n",
       "    </tr>\n",
       "    <tr>\n",
       "      <th>1</th>\n",
       "      <td>165.995926</td>\n",
       "      <td>1629.130005</td>\n",
       "      <td>137.419998</td>\n",
       "      <td>2940.250000</td>\n",
       "    </tr>\n",
       "    <tr>\n",
       "      <th>2</th>\n",
       "      <td>167.089478</td>\n",
       "      <td>1641.030029</td>\n",
       "      <td>141.850006</td>\n",
       "      <td>2887.610107</td>\n",
       "    </tr>\n",
       "    <tr>\n",
       "      <th>3</th>\n",
       "      <td>166.133850</td>\n",
       "      <td>1643.239990</td>\n",
       "      <td>142.080002</td>\n",
       "      <td>2910.629883</td>\n",
       "    </tr>\n",
       "    <tr>\n",
       "      <th>4</th>\n",
       "      <td>166.596878</td>\n",
       "      <td>1663.540039</td>\n",
       "      <td>144.500000</td>\n",
       "      <td>2952.010010</td>\n",
       "    </tr>\n",
       "  </tbody>\n",
       "</table>\n",
       "</div>"
      ],
      "text/plain": [
       "         AAPL         AMZN          FB           SP\n",
       "0  172.133682  1699.189941  139.630005  2976.739990\n",
       "1  165.995926  1629.130005  137.419998  2940.250000\n",
       "2  167.089478  1641.030029  141.850006  2887.610107\n",
       "3  166.133850  1643.239990  142.080002  2910.629883\n",
       "4  166.596878  1663.540039  144.500000  2952.010010"
      ]
     },
     "execution_count": 34,
     "metadata": {},
     "output_type": "execute_result"
    }
   ],
   "source": [
    "df = pd.concat([df,\n",
    "                SP\n",
    "                ], axis=1)\n",
    "df.columns = ['AAPL','AMZN','FB', 'SP']\n",
    "stocks = ['AAPL','AMZN','FB', 'SP']\n",
    "df.head()"
   ]
  },
  {
   "cell_type": "code",
   "execution_count": 35,
   "metadata": {},
   "outputs": [
    {
     "data": {
      "text/html": [
       "<div>\n",
       "<style scoped>\n",
       "    .dataframe tbody tr th:only-of-type {\n",
       "        vertical-align: middle;\n",
       "    }\n",
       "\n",
       "    .dataframe tbody tr th {\n",
       "        vertical-align: top;\n",
       "    }\n",
       "\n",
       "    .dataframe thead th {\n",
       "        text-align: right;\n",
       "    }\n",
       "</style>\n",
       "<table border=\"1\" class=\"dataframe\">\n",
       "  <thead>\n",
       "    <tr style=\"text-align: right;\">\n",
       "      <th></th>\n",
       "      <th>AAPL</th>\n",
       "      <th>AMZN</th>\n",
       "      <th>FB</th>\n",
       "      <th>SP</th>\n",
       "    </tr>\n",
       "  </thead>\n",
       "  <tbody>\n",
       "    <tr>\n",
       "      <th>1</th>\n",
       "      <td>-0.035657</td>\n",
       "      <td>-0.041231</td>\n",
       "      <td>-0.015828</td>\n",
       "      <td>-0.012258</td>\n",
       "    </tr>\n",
       "    <tr>\n",
       "      <th>2</th>\n",
       "      <td>0.006588</td>\n",
       "      <td>0.007305</td>\n",
       "      <td>0.032237</td>\n",
       "      <td>-0.017903</td>\n",
       "    </tr>\n",
       "    <tr>\n",
       "      <th>3</th>\n",
       "      <td>-0.005719</td>\n",
       "      <td>0.001347</td>\n",
       "      <td>0.001621</td>\n",
       "      <td>0.007972</td>\n",
       "    </tr>\n",
       "    <tr>\n",
       "      <th>4</th>\n",
       "      <td>0.002787</td>\n",
       "      <td>0.012354</td>\n",
       "      <td>0.017033</td>\n",
       "      <td>0.014217</td>\n",
       "    </tr>\n",
       "    <tr>\n",
       "      <th>5</th>\n",
       "      <td>0.010940</td>\n",
       "      <td>-0.003102</td>\n",
       "      <td>0.003529</td>\n",
       "      <td>-0.004478</td>\n",
       "    </tr>\n",
       "  </tbody>\n",
       "</table>\n",
       "</div>"
      ],
      "text/plain": [
       "       AAPL      AMZN        FB        SP\n",
       "1 -0.035657 -0.041231 -0.015828 -0.012258\n",
       "2  0.006588  0.007305  0.032237 -0.017903\n",
       "3 -0.005719  0.001347  0.001621  0.007972\n",
       "4  0.002787  0.012354  0.017033  0.014217\n",
       "5  0.010940 -0.003102  0.003529 -0.004478"
      ]
     },
     "execution_count": 35,
     "metadata": {},
     "output_type": "execute_result"
    }
   ],
   "source": [
    "returns = df.pct_change()\n",
    "returns = returns.dropna()\n",
    "returns.head()"
   ]
  },
  {
   "cell_type": "code",
   "execution_count": 36,
   "metadata": {},
   "outputs": [],
   "source": [
    "mean_daily_returns = returns.mean()\n",
    "cov_matrix = returns.cov()"
   ]
  },
  {
   "cell_type": "code",
   "execution_count": 37,
   "metadata": {},
   "outputs": [],
   "source": [
    "SP = SP.pct_change()\n",
    "SP = SP.dropna()\n",
    "SP = np.array(SP)\n",
    "\n",
    "#covarianza tra il bechmark (S&P) e i titoli\n",
    "sp_var = np.var(SP)\n",
    "sp_cov = cov_matrix['SP']\n",
    "\n",
    "#beta dei titoli\n",
    "betas = np.divide(sp_cov, sp_var)\n",
    "risk_free = 0.01\n",
    "R_M = SP.mean()"
   ]
  },
  {
   "cell_type": "code",
   "execution_count": 38,
   "metadata": {},
   "outputs": [
    {
     "data": {
      "text/plain": [
       "AAPL    0.013131\n",
       "AMZN    0.041091\n",
       "FB     -0.061604\n",
       "SP      0.081169\n",
       "Name: SP, dtype: float64"
      ]
     },
     "execution_count": 38,
     "metadata": {},
     "output_type": "execute_result"
    }
   ],
   "source": [
    "betas.head()"
   ]
  },
  {
   "cell_type": "code",
   "execution_count": 39,
   "metadata": {},
   "outputs": [],
   "source": [
    "#set up array to hold results\n",
    "results = np.zeros((6+len(stocks)-1,num_portfolios))"
   ]
  },
  {
   "cell_type": "code",
   "execution_count": null,
   "metadata": {},
   "outputs": [],
   "source": []
  },
  {
   "cell_type": "code",
   "execution_count": 91,
   "metadata": {},
   "outputs": [],
   "source": [
    "for i in range(num_portfolios):\n",
    "    #select random weights for portfolio holdings\n",
    "    weights = np.random.random(4)\n",
    "    #rebalance weights to sum to 1\n",
    "    weights /= np.sum(weights)\n",
    "\n",
    "    #calculate portfolio return and volatility\n",
    "    portfolio_return = np.sum(mean_daily_returns * weights) * 252\n",
    "    portfolio_std_dev = np.sqrt(np.dot(weights.T,np.dot(cov_matrix, weights))) * np.sqrt(252)\n",
    "    portfolio_beta = np.sum(betas * weights)\n",
    "    \n",
    "    \n",
    "    #store results in results array\n",
    "    results[0,i] = portfolio_return\n",
    "    results[1,i] = portfolio_std_dev\n",
    "    #store Sharpe Ratio, Beta and Jensen \n",
    "    results[2,i] = (results[0,i]-risk_free) / results[1,i]\n",
    "    results[3,i] = portfolio_beta\n",
    "    results[4,i] = (portfolio_return - risk_free - portfolio_beta * (R_M - risk_free))\n",
    "    \n",
    "    for j in range(len(weights)):\n",
    "        results[j+5,i] = weights[j]"
   ]
  },
  {
   "cell_type": "code",
   "execution_count": 92,
   "metadata": {},
   "outputs": [],
   "source": [
    "results_frame = pd.DataFrame(results.T,columns=['ret','stdev','sharpe','Beta','Jensen',stocks[0],stocks[1],stocks[2],stocks[3]])"
   ]
  },
  {
   "cell_type": "code",
   "execution_count": 93,
   "metadata": {},
   "outputs": [],
   "source": [
    "import matplotlib.pyplot as plt"
   ]
  },
  {
   "cell_type": "code",
   "execution_count": 94,
   "metadata": {},
   "outputs": [
    {
     "name": "stderr",
     "output_type": "stream",
     "text": [
      "No handles with labels found to put in legend.\n"
     ]
    },
    {
     "data": {
      "text/plain": [
       "<matplotlib.colorbar.Colorbar at 0x1861dfd9e10>"
      ]
     },
     "execution_count": 94,
     "metadata": {},
     "output_type": "execute_result"
    },
    {
     "data": {
      "image/png": "[encoded data removed]",
      "text/plain": [
       "<Figure size 432x288 with 2 Axes>"
      ]
     },
     "metadata": {
      "needs_background": "light"
     },
     "output_type": "display_data"
    }
   ],
   "source": [
    "plt.xlabel('Volatility/Standard Deviation')\n",
    "plt.ylabel('Returns')\n",
    "plt.legend()\n",
    "plt.scatter(results_frame.stdev, results_frame.ret, c=results_frame.sharpe, cmap='RdYlBu')\n",
    "plt.colorbar()"
   ]
  },
  {
   "cell_type": "code",
   "execution_count": 95,
   "metadata": {},
   "outputs": [],
   "source": [
    "max_sharpe_portfolio = results_frame.loc[results_frame['sharpe'].idxmax()]\n",
    "\n",
    "max_return_portfolio = results_frame.loc[results_frame['ret'].idxmax()]\n",
    "\n",
    "min_std_portfolio = results_frame.loc[results_frame['stdev'].idxmin()]"
   ]
  },
  {
   "cell_type": "code",
   "execution_count": 96,
   "metadata": {},
   "outputs": [
    {
     "name": "stdout",
     "output_type": "stream",
     "text": [
      "ret       0.469217\n",
      "stdev     0.278934\n",
      "sharpe    1.646332\n",
      "Beta      0.013590\n",
      "Jensen    0.459339\n",
      "AAPL      0.983737\n",
      "AMZN      0.008910\n",
      "FB        0.002035\n",
      "SP        0.005318\n",
      "Name: 4962, dtype: float64\n"
     ]
    }
   ],
   "source": [
    "print(max_return_portfolio)"
   ]
  },
  {
   "cell_type": "code",
   "execution_count": 97,
   "metadata": {},
   "outputs": [
    {
     "name": "stdout",
     "output_type": "stream",
     "text": [
      "ret       0.300398\n",
      "stdev     0.167697\n",
      "sharpe    1.731682\n",
      "Beta      0.026668\n",
      "Jensen    0.290636\n",
      "AAPL      0.488932\n",
      "AMZN      0.002130\n",
      "FB        0.148135\n",
      "SP        0.360803\n",
      "Name: 9837, dtype: float64\n"
     ]
    }
   ],
   "source": [
    "print(max_sharpe_portfolio)"
   ]
  },
  {
   "cell_type": "code",
   "execution_count": 98,
   "metadata": {},
   "outputs": [
    {
     "name": "stdout",
     "output_type": "stream",
     "text": [
      "ret       0.035544\n",
      "stdev     0.038428\n",
      "sharpe    0.664732\n",
      "Beta      0.077680\n",
      "Jensen    0.026237\n",
      "AAPL      0.018942\n",
      "AMZN      0.009021\n",
      "FB        0.012879\n",
      "SP        0.959158\n",
      "Name: 1057, dtype: float64\n"
     ]
    }
   ],
   "source": [
    "print(min_std_portfolio)"
   ]
  },
  {
   "cell_type": "code",
   "execution_count": null,
   "metadata": {},
   "outputs": [],
   "source": []
  },
  {
   "cell_type": "code",
   "execution_count": null,
   "metadata": {},
   "outputs": [],
   "source": []
  }
 ],
 "metadata": {
  "kernelspec": {
   "display_name": "Python 3",
   "language": "python",
   "name": "python3"
  },
  "language_info": {
   "codemirror_mode": {
    "name": "ipython",
    "version": 3
   },
   "file_extension": ".py",
   "mimetype": "text/x-python",
   "name": "python",
   "nbconvert_exporter": "python",
   "pygments_lexer": "ipython3",
   "version": "3.7.3"
  }
 },
 "nbformat": 4,
 "nbformat_minor": 2
}
